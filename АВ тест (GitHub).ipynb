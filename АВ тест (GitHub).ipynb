{
 "cells": [
  {
   "cell_type": "markdown",
   "metadata": {},
   "source": [
    "## Анализ гипотез по увеличению выручки крупного интернет-магазина"
   ]
  },
  {
   "cell_type": "markdown",
   "metadata": {},
   "source": [
    "Я — аналитик крупного интернет-магазина. Вместе с отделом маркетинга подготовили список гипотез для увеличения выручки.\n",
    "\n",
    "Необходимо приоритизировать гипотезы, запустить A/B-тест и проанализировать результаты."
   ]
  },
  {
   "cell_type": "markdown",
   "metadata": {},
   "source": [
    "### Исходные данные"
   ]
  },
  {
   "cell_type": "markdown",
   "metadata": {},
   "source": [
    "Работа состоит из двух частей: приоритизация гипотез и анализ А/В теста.\n",
    "\n",
    "Для превой части понадобиться файл /datasets/hypothesis.csv. Там 9 гипотез по увеличению выручки интернет-магазина с указанными параметрами Reach, Impact, Confidence, Effort.\n",
    "\n",
    "Файл /datasets/hypothesis.csv:\n",
    "- Hypothesis — краткое описание гипотезы;\n",
    "- Reach — охват пользователей по 10-балльной шкале;\n",
    "- Impact — влияние на пользователей по 10-балльной шкале;\n",
    "- Confidence — уверенность в гипотезе по 10-балльной шкале;\n",
    "- Efforts — затраты ресурсов на проверку гипотезы по 10-балльной шкале. Чем больше значение Efforts, тем дороже проверка гипотезы.\n",
    "\n",
    "Для второй части - файл /datasets/orders.csv:\n",
    "- transactionId — идентификатор заказа;\n",
    "- visitorId — идентификатор пользователя, совершившего заказ;\n",
    "- date — дата, когда был совершён заказ;\n",
    "- revenue — выручка заказа;\n",
    "- group — группа A/B-теста, в которую попал заказ.\n",
    "\n",
    "и файл /datasets/visitors.csv:\n",
    "- date — дата;\n",
    "- group — группа A/B-теста;\n",
    "- visitors — количество пользователей в указанную дату в указанной группе A/B-теста"
   ]
  },
  {
   "cell_type": "markdown",
   "metadata": {},
   "source": [
    "### План работы\n",
    "#### Загрузка и подготовка данных\n",
    "Задачи:\n",
    "- Посмотреть общую информацию о датафреймах.\n",
    "- Изменение типа данных, если необходимо.\n",
    "- Проверка на явные дубликаты\n",
    "\n",
    "#### Приоритизация гипотез\n",
    "Задачи:\n",
    "- Примените фреймворк ICE для приоритизации гипотез. Его расчитывают как произведение показателей Impact и Confidence деленное на показатель Efforts. Отсортируйте их по убыванию приоритета.\n",
    "- Примените фреймворк RICE для приоритизации гипотез. Его расчитывают как произведение показателей Reach, Impact и Confidence деленное на показатель Efforts. Отсортируйте их по убыванию приоритета.\n",
    "- Укажите, как изменилась приоритизация гипотез при применении RICE вместо ICE. Объясните, почему так произошло.\n",
    "\n",
    "#### Анализ A/B-теста\n",
    "Задачи по результатам A/B-теста:\n",
    "- Постройте график кумулятивной выручки по группам. Сделайте выводы и предположения.\n",
    "- Постройте график кумулятивного среднего чека по группам. Сделайте выводы и предположения.\n",
    "- Постройте график относительного изменения кумулятивного среднего чека группы B к группе A. Сделайте выводы и предположения.\n",
    "- Постройте график кумулятивной конверсии по группам. Сделайте выводы и предположения.\n",
    "- Постройте график относительного изменения кумулятивной конверсии группы B к группе A. Сделайте выводы и предположения.\n",
    "- Постройте точечный график количества заказов по пользователям. Сделайте выводы и предположения.\n",
    "- Посчитайте 95-й и 99-й перцентили количества заказов на пользователя. Выберите границу для определения аномальных пользователей.\n",
    "- Постройте точечный график стоимостей заказов. Сделайте выводы и предположения.\n",
    "- Посчитайте 95-й и 99-й перцентили стоимости заказов. Выберите границу для определения аномальных заказов.\n",
    "- Посчитайте статистическую значимость различий в конверсии между группами по «сырым» данным. Сделайте выводы и предположения.\n",
    "- Посчитайте статистическую значимость различий в среднем чеке заказа между группами по «сырым» данным. Сделайте выводы и предположения.\n",
    "- Посчитайте статистическую значимость различий в конверсии между группами по «очищенным» данным. Сделайте выводы и предположения.\n",
    "- Посчитайте статистическую значимость различий в среднем чеке заказа между группами по «очищенным» данным. Сделайте выводы и предположения.\n",
    "- Примите решение по результатам теста и объясните его. Варианты решений: 1. Остановить тест, зафиксировать победу одной из групп. 2. Остановить тест, зафиксировать отсутствие различий между группами. 3. Продолжить тест."
   ]
  },
  {
   "cell_type": "markdown",
   "metadata": {},
   "source": [
    "## Загрузка данных и подготовка к анализу"
   ]
  },
  {
   "cell_type": "code",
   "execution_count": 1,
   "metadata": {},
   "outputs": [],
   "source": [
    "import pandas as pd\n",
    "import matplotlib.pyplot as plt\n",
    "import scipy.stats as stats\n",
    "import numpy as np"
   ]
  },
  {
   "cell_type": "code",
   "execution_count": 2,
   "metadata": {},
   "outputs": [],
   "source": [
    "try:\n",
    "    hypothesis = pd.read_csv('/datasets/hypothesis.csv')\n",
    "except:\n",
    "    hypothesis = pd.read_csv('C:/Users/admin/Desktop/ЯндексПрактикум/2 часть/Принятие решений в бизнесе/Проект/hypothesis.csv')\n",
    "\n",
    "try:\n",
    "    orders = pd.read_csv('/datasets/orders.csv')\n",
    "except:\n",
    "    orders = pd.read_csv('C:/Users/admin/Desktop/ЯндексПрактикум/2 часть/Принятие решений в бизнесе/Проект/orders.csv')\n",
    "    \n",
    "try:\n",
    "    visitors = pd.read_csv('/datasets/visitors.csv')\n",
    "except:\n",
    "    visitors = pd.read_csv('C:/Users/admin/Desktop/ЯндексПрактикум/2 часть/Принятие решений в бизнесе/Проект/visitors.csv')"
   ]
  },
  {
   "cell_type": "code",
   "execution_count": 3,
   "metadata": {
    "scrolled": true
   },
   "outputs": [
    {
     "name": "stdout",
     "output_type": "stream",
     "text": [
      "<class 'pandas.core.frame.DataFrame'>\n",
      "RangeIndex: 9 entries, 0 to 8\n",
      "Data columns (total 5 columns):\n",
      " #   Column      Non-Null Count  Dtype \n",
      "---  ------      --------------  ----- \n",
      " 0   Hypothesis  9 non-null      object\n",
      " 1   Reach       9 non-null      int64 \n",
      " 2   Impact      9 non-null      int64 \n",
      " 3   Confidence  9 non-null      int64 \n",
      " 4   Efforts     9 non-null      int64 \n",
      "dtypes: int64(4), object(1)\n",
      "memory usage: 488.0+ bytes\n",
      "\n",
      "<class 'pandas.core.frame.DataFrame'>\n",
      "RangeIndex: 1197 entries, 0 to 1196\n",
      "Data columns (total 5 columns):\n",
      " #   Column         Non-Null Count  Dtype \n",
      "---  ------         --------------  ----- \n",
      " 0   transactionId  1197 non-null   int64 \n",
      " 1   visitorId      1197 non-null   int64 \n",
      " 2   date           1197 non-null   object\n",
      " 3   revenue        1197 non-null   int64 \n",
      " 4   group          1197 non-null   object\n",
      "dtypes: int64(3), object(2)\n",
      "memory usage: 46.9+ KB\n",
      "\n",
      "<class 'pandas.core.frame.DataFrame'>\n",
      "RangeIndex: 62 entries, 0 to 61\n",
      "Data columns (total 3 columns):\n",
      " #   Column    Non-Null Count  Dtype \n",
      "---  ------    --------------  ----- \n",
      " 0   date      62 non-null     object\n",
      " 1   group     62 non-null     object\n",
      " 2   visitors  62 non-null     int64 \n",
      "dtypes: int64(1), object(2)\n",
      "memory usage: 1.6+ KB\n",
      "\n"
     ]
    }
   ],
   "source": [
    "# проверка общей информации о дф\n",
    "for i in [hypothesis, orders, visitors]:\n",
    "    i.info()\n",
    "    print()"
   ]
  },
  {
   "cell_type": "code",
   "execution_count": 4,
   "metadata": {},
   "outputs": [],
   "source": [
    "# меняю тип данных в ДФ orders и visitors\n",
    "orders['date'] = pd.to_datetime(orders['date'])\n",
    "visitors['date'] = pd.to_datetime(visitors['date'])"
   ]
  },
  {
   "cell_type": "code",
   "execution_count": 5,
   "metadata": {
    "scrolled": true
   },
   "outputs": [
    {
     "name": "stdout",
     "output_type": "stream",
     "text": [
      "Явных дубликатов в ДФ \"hypothesis\": 0\n",
      "Явных дубликатов в ДФ \"orders\": 0\n",
      "Явных дубликатов в ДФ \"visitors\": 0\n"
     ]
    }
   ],
   "source": [
    "# проверка на дубликаты\n",
    "print('Явных дубликатов в ДФ \"hypothesis\":', hypothesis.duplicated().sum())\n",
    "print('Явных дубликатов в ДФ \"orders\":', orders.duplicated().sum())\n",
    "print('Явных дубликатов в ДФ \"visitors\":', visitors.duplicated().sum())"
   ]
  },
  {
   "cell_type": "markdown",
   "metadata": {},
   "source": [
    "Выводы:\n",
    "- поменял тип данных в столбацах с датами;\n",
    "- явных дубликатов не обнаружено."
   ]
  },
  {
   "cell_type": "markdown",
   "metadata": {},
   "source": [
    "## Приоритизация гипотез"
   ]
  },
  {
   "cell_type": "code",
   "execution_count": 6,
   "metadata": {},
   "outputs": [],
   "source": [
    "hypothesis\n",
    "pd.options.display.max_colwidth = 150"
   ]
  },
  {
   "cell_type": "code",
   "execution_count": 7,
   "metadata": {
    "scrolled": false
   },
   "outputs": [
    {
     "data": {
      "text/html": [
       "<div>\n",
       "<style scoped>\n",
       "    .dataframe tbody tr th:only-of-type {\n",
       "        vertical-align: middle;\n",
       "    }\n",
       "\n",
       "    .dataframe tbody tr th {\n",
       "        vertical-align: top;\n",
       "    }\n",
       "\n",
       "    .dataframe thead th {\n",
       "        text-align: right;\n",
       "    }\n",
       "</style>\n",
       "<table border=\"1\" class=\"dataframe\">\n",
       "  <thead>\n",
       "    <tr style=\"text-align: right;\">\n",
       "      <th></th>\n",
       "      <th>Hypothesis</th>\n",
       "      <th>ICE</th>\n",
       "    </tr>\n",
       "  </thead>\n",
       "  <tbody>\n",
       "    <tr>\n",
       "      <th>8</th>\n",
       "      <td>Запустить акцию, дающую скидку на товар в день рождения</td>\n",
       "      <td>16.20</td>\n",
       "    </tr>\n",
       "    <tr>\n",
       "      <th>0</th>\n",
       "      <td>Добавить два новых канала привлечения трафика, что позволит привлекать на 30% больше пользователей</td>\n",
       "      <td>13.33</td>\n",
       "    </tr>\n",
       "    <tr>\n",
       "      <th>7</th>\n",
       "      <td>Добавить форму подписки на все основные страницы, чтобы собрать базу клиентов для email-рассылок</td>\n",
       "      <td>11.20</td>\n",
       "    </tr>\n",
       "    <tr>\n",
       "      <th>6</th>\n",
       "      <td>Показать на главной странице баннеры с актуальными акциями и распродажами, чтобы увеличить конверсию</td>\n",
       "      <td>8.00</td>\n",
       "    </tr>\n",
       "    <tr>\n",
       "      <th>2</th>\n",
       "      <td>Добавить блоки рекомендаций товаров на сайт интернет магазина, чтобы повысить конверсию и средний чек заказа</td>\n",
       "      <td>7.00</td>\n",
       "    </tr>\n",
       "    <tr>\n",
       "      <th>1</th>\n",
       "      <td>Запустить собственную службу доставки, что сократит срок доставки заказов</td>\n",
       "      <td>2.00</td>\n",
       "    </tr>\n",
       "    <tr>\n",
       "      <th>5</th>\n",
       "      <td>Добавить страницу отзывов клиентов о магазине, что позволит увеличить количество заказов</td>\n",
       "      <td>1.33</td>\n",
       "    </tr>\n",
       "    <tr>\n",
       "      <th>3</th>\n",
       "      <td>Изменить структура категорий, что увеличит конверсию, т.к. пользователи быстрее найдут нужный товар</td>\n",
       "      <td>1.12</td>\n",
       "    </tr>\n",
       "    <tr>\n",
       "      <th>4</th>\n",
       "      <td>Изменить цвет фона главной страницы, чтобы увеличить вовлеченность пользователей</td>\n",
       "      <td>1.00</td>\n",
       "    </tr>\n",
       "  </tbody>\n",
       "</table>\n",
       "</div>"
      ],
      "text/plain": [
       "                                                                                                     Hypothesis  \\\n",
       "8                                                       Запустить акцию, дающую скидку на товар в день рождения   \n",
       "0            Добавить два новых канала привлечения трафика, что позволит привлекать на 30% больше пользователей   \n",
       "7              Добавить форму подписки на все основные страницы, чтобы собрать базу клиентов для email-рассылок   \n",
       "6          Показать на главной странице баннеры с актуальными акциями и распродажами, чтобы увеличить конверсию   \n",
       "2  Добавить блоки рекомендаций товаров на сайт интернет магазина, чтобы повысить конверсию и средний чек заказа   \n",
       "1                                     Запустить собственную службу доставки, что сократит срок доставки заказов   \n",
       "5                      Добавить страницу отзывов клиентов о магазине, что позволит увеличить количество заказов   \n",
       "3           Изменить структура категорий, что увеличит конверсию, т.к. пользователи быстрее найдут нужный товар   \n",
       "4                              Изменить цвет фона главной страницы, чтобы увеличить вовлеченность пользователей   \n",
       "\n",
       "     ICE  \n",
       "8  16.20  \n",
       "0  13.33  \n",
       "7  11.20  \n",
       "6   8.00  \n",
       "2   7.00  \n",
       "1   2.00  \n",
       "5   1.33  \n",
       "3   1.12  \n",
       "4   1.00  "
      ]
     },
     "execution_count": 7,
     "metadata": {},
     "output_type": "execute_result"
    }
   ],
   "source": [
    "# применение фреймворка ICE\n",
    "hypothesis['ICE'] = round(hypothesis['Impact'] * hypothesis['Confidence'] / hypothesis['Efforts'], 2)\n",
    "hypothesis[['Hypothesis', 'ICE']].sort_values(by='ICE', ascending=False)"
   ]
  },
  {
   "cell_type": "markdown",
   "metadata": {},
   "source": [
    "- При использовании фреймворка ICE видно 3х лидеров гипотез: \"Запустить акцию, дающую скидку на товар в день рождения\"; \"Добавить два новых канала привлечения трафика, что позволит привлекать на 30% больше пользователей\"; \"Добавить форму подписки на все основные страницы, чтобы собрать базу клиентов для email-рассылок\". У этих гипотез выскокий уровень показателей Impact и Confidence, что говорит об уверенности во влиянии этих нововведений на пользователей. Также средний уровень показателя Efforts показывает, что для проверки данных гипотез потребуется немного ресурсов.   "
   ]
  },
  {
   "cell_type": "code",
   "execution_count": 8,
   "metadata": {},
   "outputs": [
    {
     "data": {
      "text/html": [
       "<div>\n",
       "<style scoped>\n",
       "    .dataframe tbody tr th:only-of-type {\n",
       "        vertical-align: middle;\n",
       "    }\n",
       "\n",
       "    .dataframe tbody tr th {\n",
       "        vertical-align: top;\n",
       "    }\n",
       "\n",
       "    .dataframe thead th {\n",
       "        text-align: right;\n",
       "    }\n",
       "</style>\n",
       "<table border=\"1\" class=\"dataframe\">\n",
       "  <thead>\n",
       "    <tr style=\"text-align: right;\">\n",
       "      <th></th>\n",
       "      <th>Hypothesis</th>\n",
       "      <th>RICE</th>\n",
       "    </tr>\n",
       "  </thead>\n",
       "  <tbody>\n",
       "    <tr>\n",
       "      <th>7</th>\n",
       "      <td>Добавить форму подписки на все основные страницы, чтобы собрать базу клиентов для email-рассылок</td>\n",
       "      <td>112.0</td>\n",
       "    </tr>\n",
       "    <tr>\n",
       "      <th>2</th>\n",
       "      <td>Добавить блоки рекомендаций товаров на сайт интернет магазина, чтобы повысить конверсию и средний чек заказа</td>\n",
       "      <td>56.0</td>\n",
       "    </tr>\n",
       "    <tr>\n",
       "      <th>0</th>\n",
       "      <td>Добавить два новых канала привлечения трафика, что позволит привлекать на 30% больше пользователей</td>\n",
       "      <td>40.0</td>\n",
       "    </tr>\n",
       "    <tr>\n",
       "      <th>6</th>\n",
       "      <td>Показать на главной странице баннеры с актуальными акциями и распродажами, чтобы увеличить конверсию</td>\n",
       "      <td>40.0</td>\n",
       "    </tr>\n",
       "    <tr>\n",
       "      <th>8</th>\n",
       "      <td>Запустить акцию, дающую скидку на товар в день рождения</td>\n",
       "      <td>16.2</td>\n",
       "    </tr>\n",
       "    <tr>\n",
       "      <th>3</th>\n",
       "      <td>Изменить структура категорий, что увеличит конверсию, т.к. пользователи быстрее найдут нужный товар</td>\n",
       "      <td>9.0</td>\n",
       "    </tr>\n",
       "    <tr>\n",
       "      <th>1</th>\n",
       "      <td>Запустить собственную службу доставки, что сократит срок доставки заказов</td>\n",
       "      <td>4.0</td>\n",
       "    </tr>\n",
       "    <tr>\n",
       "      <th>5</th>\n",
       "      <td>Добавить страницу отзывов клиентов о магазине, что позволит увеличить количество заказов</td>\n",
       "      <td>4.0</td>\n",
       "    </tr>\n",
       "    <tr>\n",
       "      <th>4</th>\n",
       "      <td>Изменить цвет фона главной страницы, чтобы увеличить вовлеченность пользователей</td>\n",
       "      <td>3.0</td>\n",
       "    </tr>\n",
       "  </tbody>\n",
       "</table>\n",
       "</div>"
      ],
      "text/plain": [
       "                                                                                                     Hypothesis  \\\n",
       "7              Добавить форму подписки на все основные страницы, чтобы собрать базу клиентов для email-рассылок   \n",
       "2  Добавить блоки рекомендаций товаров на сайт интернет магазина, чтобы повысить конверсию и средний чек заказа   \n",
       "0            Добавить два новых канала привлечения трафика, что позволит привлекать на 30% больше пользователей   \n",
       "6          Показать на главной странице баннеры с актуальными акциями и распродажами, чтобы увеличить конверсию   \n",
       "8                                                       Запустить акцию, дающую скидку на товар в день рождения   \n",
       "3           Изменить структура категорий, что увеличит конверсию, т.к. пользователи быстрее найдут нужный товар   \n",
       "1                                     Запустить собственную службу доставки, что сократит срок доставки заказов   \n",
       "5                      Добавить страницу отзывов клиентов о магазине, что позволит увеличить количество заказов   \n",
       "4                              Изменить цвет фона главной страницы, чтобы увеличить вовлеченность пользователей   \n",
       "\n",
       "    RICE  \n",
       "7  112.0  \n",
       "2   56.0  \n",
       "0   40.0  \n",
       "6   40.0  \n",
       "8   16.2  \n",
       "3    9.0  \n",
       "1    4.0  \n",
       "5    4.0  \n",
       "4    3.0  "
      ]
     },
     "execution_count": 8,
     "metadata": {},
     "output_type": "execute_result"
    }
   ],
   "source": [
    "# применение фреймворка RICE\n",
    "hypothesis['RICE'] = round(hypothesis['Reach'] * hypothesis['Impact'] * hypothesis['Confidence'] / hypothesis['Efforts'], 2)\n",
    "hypothesis[['Hypothesis', 'RICE']].sort_values(by='RICE', ascending=False)"
   ]
  },
  {
   "cell_type": "markdown",
   "metadata": {},
   "source": [
    "- При использовании фреймворка RICE видно, какое влияние оказывает охват аудитории. Лидер проверки ICE, гипотеза \"Запустить акцию, дающую скидку на товар в день рождения\", закрывает всего лишь пятерку лучших гипотез по RICE, т.к. данная гипотеза направлена на малую аудиторию (Reach=1). Гипотезы \"Добавить форму подписки на все основные страницы, чтобы собрать базу клиентов для email-рассылок\" и \"Добавить два новых канала привлечения трафика, что позволит привлекать на 30% больше пользователей\" также в тройке лучших, при этом гипотеза \"Добавить форму подписки на все основные страницы, чтобы собрать базу клиентов для email-рассылок\" имеет явное преимущество в приоритизации за счет большого охвата. Также появились гипотезы с высоким RICE: \"Добавить блоки рекомендаций товаров на сайт интернет магазина, чтобы повысить конверсию и средний чек заказа\" и \"Показать на главной странице баннеры с актуальными акциями и распродажами, чтобы увеличить конверсию\"."
   ]
  },
  {
   "cell_type": "markdown",
   "metadata": {},
   "source": [
    "Выводы:\n",
    "- При использовании обоих методов можно выделить постоянных лидеров: гипотеза под индексом 7 и 0.\n",
    "- Показатели охвата гипотезы важны при приоритизации гипотезы."
   ]
  },
  {
   "cell_type": "markdown",
   "metadata": {},
   "source": [
    "## Анализ А/В теста"
   ]
  },
  {
   "cell_type": "code",
   "execution_count": 9,
   "metadata": {
    "scrolled": true
   },
   "outputs": [
    {
     "name": "stdout",
     "output_type": "stream",
     "text": [
      "   transactionId   visitorId       date  revenue group\n",
      "0     3667963787  3312258926 2019-08-15     1650     B\n",
      "1     2804400009  3642806036 2019-08-15      730     B\n",
      "2     2961555356  4069496402 2019-08-15      400     A\n",
      "3     3797467345  1196621759 2019-08-15     9759     B\n",
      "4     2282983706  2322279887 2019-08-15     2308     B\n",
      "\n",
      "        date group  visitors\n",
      "0 2019-08-01     A       719\n",
      "1 2019-08-02     A       619\n",
      "2 2019-08-03     A       507\n",
      "3 2019-08-04     A       717\n",
      "4 2019-08-05     A       756\n"
     ]
    }
   ],
   "source": [
    "print(orders.head(5))\n",
    "print()\n",
    "print(visitors.head(5))"
   ]
  },
  {
   "cell_type": "code",
   "execution_count": 10,
   "metadata": {
    "scrolled": false
   },
   "outputs": [],
   "source": [
    "ordersA = orders[orders['group'] == 'A']['visitorId'].drop_duplicates()\n",
    "ordersB = orders[orders['group'] == 'B']['visitorId'].drop_duplicates()"
   ]
  },
  {
   "cell_type": "code",
   "execution_count": 11,
   "metadata": {
    "scrolled": true
   },
   "outputs": [
    {
     "name": "stdout",
     "output_type": "stream",
     "text": [
      "Количество групп в тесте: 2\n",
      "Дата начала теста: 2019-08-01 00:00:00; дата окончания теста: 2019-08-31 00:00:00\n",
      "В группе А пользователей: 503. B группе В пользователей: 586\n"
     ]
    }
   ],
   "source": [
    "print('Количество групп в тесте:', len(visitors['group'].unique()))\n",
    "print('Дата начала теста: {}; дата окончания теста: {}'.format(min(visitors.date), max(visitors.date)))\n",
    "print('В группе А пользователей: {}. B группе В пользователей: {}'.format(len(ordersA), len(ordersB)))"
   ]
  },
  {
   "cell_type": "code",
   "execution_count": 12,
   "metadata": {},
   "outputs": [],
   "source": [
    "# подготовка данных для построения графиков\n",
    "# кумулятивное количество посетителей для обоих групп\n",
    "visitors_a = visitors[visitors['group'] == 'A'][['date', 'visitors']]\n",
    "visitors_a.columns = ['date', 'visitors_a_per_day']\n",
    "visitors_a_cummul = (visitors_a.apply(lambda x: visitors_a[visitors_a['date'] <= x['date']]\n",
    "                                     .agg({'date': 'max', 'visitors_a_per_day': 'sum'}), axis=1))\n",
    "visitors_a_cummul.columns = ['date', 'visitors_a_cumul']\n",
    "\n",
    "visitors_b = visitors[visitors['group'] == 'B'][['date', 'visitors']]\n",
    "visitors_b.columns = ['date', 'visitors_b_per_day']\n",
    "visitors_b_cummul = (visitors_b.apply(lambda x: visitors_b[visitors_b['date'] <= x['date']]\n",
    "                                     .agg({'date': 'max', 'visitors_b_per_day': 'sum'}), axis=1))\n",
    "visitors_b_cummul.columns = ['date', 'visitors_b_cumul']"
   ]
  },
  {
   "cell_type": "code",
   "execution_count": 13,
   "metadata": {},
   "outputs": [],
   "source": [
    "# кумулятивная сумма покупок и количества транзакций для обоих групп\n",
    "revenue_a = (orders[orders['group'] == 'A'][['date', 'transactionId', 'revenue']]\n",
    "             .groupby('date', as_index=False)\n",
    "             .agg({'transactionId': 'nunique', 'revenue': 'sum'}))\n",
    "revenue_a.columns = ['date', 'transaction_a_per_day', 'revenue_a_per_day']\n",
    "revenue_a_cumul = (revenue_a.apply(lambda x: revenue_a[revenue_a['date'] <= x['date']]\n",
    "                                   .agg({'date': 'max','transaction_a_per_day': 'sum', 'revenue_a_per_day': 'sum'}), axis=1))\n",
    "revenue_a_cumul.columns = ['date', 'transaction_a_cumul', 'revenue_a_cumul']\n",
    "\n",
    "revenue_b = (orders[orders['group'] == 'B'][['date', 'transactionId', 'revenue']]\n",
    "             .groupby('date', as_index=False)\n",
    "             .agg({'transactionId': 'nunique', 'revenue': 'sum'}))\n",
    "revenue_b.columns = ['date', 'transaction_b_per_day', 'revenue_b_per_day']\n",
    "revenue_b_cumul = (revenue_b.apply(lambda x: revenue_b[revenue_b['date'] <= x['date']]\n",
    "                                   .agg({'date': 'max','transaction_b_per_day': 'sum', 'revenue_b_per_day': 'sum'}), axis=1))\n",
    "revenue_b_cumul.columns = ['date', 'transaction_b_cumul', 'revenue_b_cumul']"
   ]
  },
  {
   "cell_type": "code",
   "execution_count": 14,
   "metadata": {},
   "outputs": [],
   "source": [
    "# объединяю полученные таблицы\n",
    "data = (revenue_a.merge(revenue_b, on='date')\n",
    "        .merge(revenue_a_cumul, on='date')\n",
    "        .merge(revenue_b_cumul, on='date')\n",
    "        .merge(visitors_a, on='date')\n",
    "        .merge(visitors_b, on='date')\n",
    "        .merge(visitors_a_cummul, on='date')\n",
    "        .merge(visitors_b_cummul, on='date'))"
   ]
  },
  {
   "cell_type": "code",
   "execution_count": 15,
   "metadata": {},
   "outputs": [
    {
     "data": {
      "text/html": [
       "<div>\n",
       "<style scoped>\n",
       "    .dataframe tbody tr th:only-of-type {\n",
       "        vertical-align: middle;\n",
       "    }\n",
       "\n",
       "    .dataframe tbody tr th {\n",
       "        vertical-align: top;\n",
       "    }\n",
       "\n",
       "    .dataframe thead th {\n",
       "        text-align: right;\n",
       "    }\n",
       "</style>\n",
       "<table border=\"1\" class=\"dataframe\">\n",
       "  <thead>\n",
       "    <tr style=\"text-align: right;\">\n",
       "      <th></th>\n",
       "      <th>date</th>\n",
       "      <th>transaction_a_per_day</th>\n",
       "      <th>revenue_a_per_day</th>\n",
       "      <th>transaction_b_per_day</th>\n",
       "      <th>revenue_b_per_day</th>\n",
       "      <th>transaction_a_cumul</th>\n",
       "      <th>revenue_a_cumul</th>\n",
       "      <th>transaction_b_cumul</th>\n",
       "      <th>revenue_b_cumul</th>\n",
       "      <th>visitors_a_per_day</th>\n",
       "      <th>visitors_b_per_day</th>\n",
       "      <th>visitors_a_cumul</th>\n",
       "      <th>visitors_b_cumul</th>\n",
       "    </tr>\n",
       "  </thead>\n",
       "  <tbody>\n",
       "    <tr>\n",
       "      <th>0</th>\n",
       "      <td>2019-08-01</td>\n",
       "      <td>24</td>\n",
       "      <td>148579</td>\n",
       "      <td>21</td>\n",
       "      <td>101217</td>\n",
       "      <td>24</td>\n",
       "      <td>148579</td>\n",
       "      <td>21</td>\n",
       "      <td>101217</td>\n",
       "      <td>719</td>\n",
       "      <td>713</td>\n",
       "      <td>719</td>\n",
       "      <td>713</td>\n",
       "    </tr>\n",
       "    <tr>\n",
       "      <th>1</th>\n",
       "      <td>2019-08-02</td>\n",
       "      <td>20</td>\n",
       "      <td>93822</td>\n",
       "      <td>24</td>\n",
       "      <td>165531</td>\n",
       "      <td>44</td>\n",
       "      <td>242401</td>\n",
       "      <td>45</td>\n",
       "      <td>266748</td>\n",
       "      <td>619</td>\n",
       "      <td>581</td>\n",
       "      <td>1338</td>\n",
       "      <td>1294</td>\n",
       "    </tr>\n",
       "    <tr>\n",
       "      <th>2</th>\n",
       "      <td>2019-08-03</td>\n",
       "      <td>24</td>\n",
       "      <td>112473</td>\n",
       "      <td>16</td>\n",
       "      <td>114248</td>\n",
       "      <td>68</td>\n",
       "      <td>354874</td>\n",
       "      <td>61</td>\n",
       "      <td>380996</td>\n",
       "      <td>507</td>\n",
       "      <td>509</td>\n",
       "      <td>1845</td>\n",
       "      <td>1803</td>\n",
       "    </tr>\n",
       "    <tr>\n",
       "      <th>3</th>\n",
       "      <td>2019-08-04</td>\n",
       "      <td>16</td>\n",
       "      <td>70825</td>\n",
       "      <td>17</td>\n",
       "      <td>108571</td>\n",
       "      <td>84</td>\n",
       "      <td>425699</td>\n",
       "      <td>78</td>\n",
       "      <td>489567</td>\n",
       "      <td>717</td>\n",
       "      <td>770</td>\n",
       "      <td>2562</td>\n",
       "      <td>2573</td>\n",
       "    </tr>\n",
       "    <tr>\n",
       "      <th>4</th>\n",
       "      <td>2019-08-05</td>\n",
       "      <td>25</td>\n",
       "      <td>124218</td>\n",
       "      <td>23</td>\n",
       "      <td>92428</td>\n",
       "      <td>109</td>\n",
       "      <td>549917</td>\n",
       "      <td>101</td>\n",
       "      <td>581995</td>\n",
       "      <td>756</td>\n",
       "      <td>707</td>\n",
       "      <td>3318</td>\n",
       "      <td>3280</td>\n",
       "    </tr>\n",
       "  </tbody>\n",
       "</table>\n",
       "</div>"
      ],
      "text/plain": [
       "        date  transaction_a_per_day  revenue_a_per_day  transaction_b_per_day  \\\n",
       "0 2019-08-01                     24             148579                     21   \n",
       "1 2019-08-02                     20              93822                     24   \n",
       "2 2019-08-03                     24             112473                     16   \n",
       "3 2019-08-04                     16              70825                     17   \n",
       "4 2019-08-05                     25             124218                     23   \n",
       "\n",
       "   revenue_b_per_day  transaction_a_cumul  revenue_a_cumul  \\\n",
       "0             101217                   24           148579   \n",
       "1             165531                   44           242401   \n",
       "2             114248                   68           354874   \n",
       "3             108571                   84           425699   \n",
       "4              92428                  109           549917   \n",
       "\n",
       "   transaction_b_cumul  revenue_b_cumul  visitors_a_per_day  \\\n",
       "0                   21           101217                 719   \n",
       "1                   45           266748                 619   \n",
       "2                   61           380996                 507   \n",
       "3                   78           489567                 717   \n",
       "4                  101           581995                 756   \n",
       "\n",
       "   visitors_b_per_day  visitors_a_cumul  visitors_b_cumul  \n",
       "0                 713               719               713  \n",
       "1                 581              1338              1294  \n",
       "2                 509              1845              1803  \n",
       "3                 770              2562              2573  \n",
       "4                 707              3318              3280  "
      ]
     },
     "execution_count": 15,
     "metadata": {},
     "output_type": "execute_result"
    }
   ],
   "source": [
    "data.head(5)"
   ]
  },
  {
   "cell_type": "code",
   "execution_count": 16,
   "metadata": {
    "scrolled": true
   },
   "outputs": [
    {
     "name": "stdout",
     "output_type": "stream",
     "text": [
      "Количество пользователей, попавших в обе группы: 58\n"
     ]
    }
   ],
   "source": [
    "print('Количество пользователей, попавших в обе группы:', len(ordersA) - len(ordersA[np.logical_not(ordersA.isin(ordersB))]))"
   ]
  },
  {
   "cell_type": "code",
   "execution_count": 17,
   "metadata": {},
   "outputs": [
    {
     "data": {
      "image/png": "[encoded data removed]",
      "text/plain": [
       "<Figure size 720x504 with 1 Axes>"
      ]
     },
     "metadata": {
      "needs_background": "light"
     },
     "output_type": "display_data"
    }
   ],
   "source": [
    "# график кумулятивной выручки по группам\n",
    "plt.figure(figsize=(10,7))\n",
    "plt.plot(data['date'], data['revenue_a_cumul'], label='A')\n",
    "plt.plot(data['date'], data['revenue_b_cumul'], label='B')\n",
    "plt.title('График кумулятивной выручки по группам')\n",
    "plt.xlabel('Дата')\n",
    "plt.ylabel('Выручка')\n",
    "plt.legend()\n",
    "plt.show()"
   ]
  },
  {
   "cell_type": "markdown",
   "metadata": {},
   "source": [
    "- по графику можно заметить, что равномерный рост выручки был на протяжении всего времени. Также виден некий скачок группы В в середине месяца. Возможно, было большое количество заказов, либо дорогая покупка."
   ]
  },
  {
   "cell_type": "code",
   "execution_count": 18,
   "metadata": {},
   "outputs": [
    {
     "data": {
      "image/png": "[encoded data removed]",
      "text/plain": [
       "<Figure size 720x504 with 1 Axes>"
      ]
     },
     "metadata": {
      "needs_background": "light"
     },
     "output_type": "display_data"
    }
   ],
   "source": [
    "# график кумулятивного среднего чека по группам\n",
    "plt.figure(figsize=(10,7))\n",
    "plt.plot(data['date'], data['revenue_a_cumul']/data['transaction_a_cumul'], label='A')\n",
    "plt.plot(data['date'], data['revenue_b_cumul']/data['transaction_b_cumul'], label='B')\n",
    "plt.title('График кумулятивного среднего чека по группам')\n",
    "plt.xlabel('Дата')\n",
    "plt.ylabel('Средний чек')\n",
    "plt.legend()\n",
    "plt.show()"
   ]
  },
  {
   "cell_type": "markdown",
   "metadata": {},
   "source": [
    "- да, видимо в группе В была дорогая покупка. Средний чек группы B рос до крупной покупки, а после нее наблюдается спад.\n",
    "По группе А можно отметить, что к концу месяца средний чек усредняется."
   ]
  },
  {
   "cell_type": "code",
   "execution_count": 19,
   "metadata": {
    "scrolled": false
   },
   "outputs": [
    {
     "data": {
      "image/png": "[encoded data removed]",
      "text/plain": [
       "<Figure size 720x504 with 1 Axes>"
      ]
     },
     "metadata": {
      "needs_background": "light"
     },
     "output_type": "display_data"
    }
   ],
   "source": [
    "# график относительного изменения кумулятивного среднего чека группы B к группе A\n",
    "plt.figure(figsize=(10,7))\n",
    "plt.plot(data['date'], ((data['revenue_b_cumul']/data['transaction_b_cumul'])\n",
    "                        /(data['revenue_a_cumul']/data['transaction_a_cumul'])-1), label='B/А-1')\n",
    "plt.axhline(y=0, color='green', linestyle='-.') \n",
    "plt.title('График относительного изменения кумулятивного среднего чека группы B к группе A')\n",
    "plt.xlabel('Дата')\n",
    "plt.ylabel('Относительное изменение чека')\n",
    "plt.legend()\n",
    "plt.show()"
   ]
  },
  {
   "cell_type": "markdown",
   "metadata": {},
   "source": [
    "- график сильно скачет из-за каких-то аномалий или дорогих покупок. Также заметен стремительное падение среднего чека группы В по отношению к группе А, но под конец видная некая стабильность. Нужно глянуть на выбросы значений. "
   ]
  },
  {
   "cell_type": "code",
   "execution_count": 20,
   "metadata": {
    "scrolled": false
   },
   "outputs": [
    {
     "data": {
      "image/png": "[encoded data removed]",
      "text/plain": [
       "<Figure size 720x504 with 1 Axes>"
      ]
     },
     "metadata": {
      "needs_background": "light"
     },
     "output_type": "display_data"
    }
   ],
   "source": [
    "# график кумулятивной конверсии по группам\n",
    "plt.figure(figsize=(10,7))\n",
    "plt.plot(data['date'], data['transaction_a_cumul']/data['visitors_a_cumul'], label='A')\n",
    "plt.plot(data['date'], data['transaction_b_cumul']/data['visitors_b_cumul'], label='B')\n",
    "plt.ylim([0, 0.04]) \n",
    "plt.title('График кумулятивной конверсии по группам')\n",
    "plt.xlabel('Дата')\n",
    "plt.ylabel('Конверсия')\n",
    "plt.legend()\n",
    "plt.show()"
   ]
  },
  {
   "cell_type": "markdown",
   "metadata": {},
   "source": [
    "- на протяжении большого времени графики зафиксировались в одном значении. В начале видно, группа А имела большую конверсию, но через некоторое время конверсия группы В вырвалась вперед и усреднилась. Также следует отметить, что под конец месяца конверсия группы А падала, а группы В - постоянна. "
   ]
  },
  {
   "cell_type": "code",
   "execution_count": 21,
   "metadata": {},
   "outputs": [
    {
     "data": {
      "image/png": "[encoded data removed]",
      "text/plain": [
       "<Figure size 720x504 with 1 Axes>"
      ]
     },
     "metadata": {
      "needs_background": "light"
     },
     "output_type": "display_data"
    }
   ],
   "source": [
    "# график относительного изменения кумулятивной конверсии группы B к группе A\n",
    "plt.figure(figsize=(10,7))\n",
    "plt.plot(data['date'], ((data['transaction_b_cumul']/data['visitors_b_cumul'])\n",
    "                        /(data['transaction_a_cumul']/data['visitors_a_cumul'])-1), label='B/А-1')\n",
    "plt.axhline(y=0, color='green', linestyle='-.') \n",
    "plt.title('График относительного изменения кумулятивной конверсии группы B к группе A')\n",
    "plt.xlabel('Дата')\n",
    "plt.ylabel('Относительное изменение конверсии')\n",
    "plt.legend()\n",
    "plt.show()"
   ]
  },
  {
   "cell_type": "markdown",
   "metadata": {},
   "source": [
    "- по графику видно существенное различие между группами. Также следует отметить некий рост разницы конверсии под конец месяца связанный с уменьшением конверсии группы А."
   ]
  },
  {
   "cell_type": "code",
   "execution_count": 22,
   "metadata": {
    "scrolled": false
   },
   "outputs": [
    {
     "data": {
      "image/png": "[encoded data removed]",
      "text/plain": [
       "<Figure size 576x360 with 1 Axes>"
      ]
     },
     "metadata": {
      "needs_background": "light"
     },
     "output_type": "display_data"
    }
   ],
   "source": [
    "# считаю количество уникальных заказов пользователей\n",
    "orders_by_users = (orders\n",
    "                   .groupby('visitorId', as_index=False)\n",
    "                   .agg({'transactionId': 'nunique'}))\n",
    "orders_by_users.columns = ['visitorId', 'orders']\n",
    "\n",
    "# точечный график количества заказов по пользователям\n",
    "x_values = pd.Series(range(0, len(orders_by_users['orders'])))\n",
    "plt.figure(figsize=(8,5))\n",
    "plt.scatter(x_values, orders_by_users['orders'])\n",
    "plt.title('Точечный график количества заказов по пользователям')\n",
    "plt.ylabel('Количество заказов')\n",
    "plt.show()"
   ]
  },
  {
   "cell_type": "markdown",
   "metadata": {},
   "source": [
    "- видны пользователи с большим количеством заказов . Есть пользователи с 11 заказами. С выбросами нам поможет расчет перцентиля."
   ]
  },
  {
   "cell_type": "code",
   "execution_count": 23,
   "metadata": {
    "scrolled": true
   },
   "outputs": [
    {
     "name": "stdout",
     "output_type": "stream",
     "text": [
      "95-ый перцентиль количества заказов равен: 2.0\n",
      "99-ый перцентиль количества заказов равен: 4.0\n"
     ]
    }
   ],
   "source": [
    "# расчет 95-го и 99-го перцентиля количества заказов на пользователя\n",
    "print('95-ый перцентиль количества заказов равен:', np.percentile(orders_by_users['orders'], 95))\n",
    "print('99-ый перцентиль количества заказов равен:', np.percentile(orders_by_users['orders'], 99))"
   ]
  },
  {
   "cell_type": "markdown",
   "metadata": {},
   "source": [
    "- не более 5% пользователей делали заказ больше 2 раз; не более 1% - больше 4 раз. Верхняя граница числа заказов пользователей будет 2 заказа."
   ]
  },
  {
   "cell_type": "code",
   "execution_count": 24,
   "metadata": {
    "scrolled": false
   },
   "outputs": [
    {
     "data": {
      "image/png": "[encoded data removed]",
      "text/plain": [
       "<Figure size 576x360 with 1 Axes>"
      ]
     },
     "metadata": {
      "needs_background": "light"
     },
     "output_type": "display_data"
    }
   ],
   "source": [
    "# точечный график стоимостей заказов\n",
    "x_values = pd.Series(range(0, len(orders['revenue'])))\n",
    "plt.figure(figsize=(8,5))\n",
    "plt.scatter(x_values, orders['revenue'])\n",
    "plt.title('Точечный график стоимостей заказов')\n",
    "plt.ylabel('Стоимсость заказов')\n",
    "plt.show()"
   ]
  },
  {
   "cell_type": "markdown",
   "metadata": {},
   "source": [
    "- есть заказы на суммы больше чем в 1 миллион. С выбросами поможет расчет перцентиля. "
   ]
  },
  {
   "cell_type": "code",
   "execution_count": 25,
   "metadata": {},
   "outputs": [
    {
     "name": "stdout",
     "output_type": "stream",
     "text": [
      "95-ый перцентиль стоимости заказов равен: 28000.0\n",
      "99-ый перцентиль стоимости заказов равен: 58233.2\n"
     ]
    }
   ],
   "source": [
    "# расчет 95-го и 99-го перцентиля стоимости заказов\n",
    "print('95-ый перцентиль стоимости заказов равен:', round(np.percentile(orders['revenue'], 95),3))\n",
    "print('99-ый перцентиль стоимости заказов равен:', round(np.percentile(orders['revenue'], 99),3))"
   ]
  },
  {
   "cell_type": "markdown",
   "metadata": {},
   "source": [
    "- не более 5% заказов на сумму больше 28 тысяч; не более 1% заказов на сумму более 58 тысяч. Верхнюю границу установим в 28 тысяч."
   ]
  },
  {
   "cell_type": "code",
   "execution_count": 26,
   "metadata": {},
   "outputs": [],
   "source": [
    "# группировка пользователей по группам и расчет количества уникальных заказов\n",
    "orders_a_by_users = (orders[orders['group'] == 'A']\n",
    "                     .groupby('visitorId', as_index=False)\n",
    "                     .agg({'transactionId': 'nunique'}))\n",
    "orders_a_by_users.columns = ['visitorId', 'orders']\n",
    "\n",
    "orders_b_by_users = (orders[orders['group'] == 'B']\n",
    "                     .groupby('visitorId', as_index=False)\n",
    "                     .agg({'transactionId': 'nunique'}))\n",
    "orders_b_by_users.columns = ['visitorId', 'orders']"
   ]
  },
  {
   "cell_type": "markdown",
   "metadata": {},
   "source": [
    "**Проводим расчет статистической значимости. Нулевая гипотеза: различий в среднем числе заказов между группами по \"сырым\" данным нет. Альтернативная гипотеза: различия в среднем числе заказов между группами по \"сырым\" данным есть.**"
   ]
  },
  {
   "cell_type": "code",
   "execution_count": 27,
   "metadata": {},
   "outputs": [
    {
     "name": "stdout",
     "output_type": "stream",
     "text": [
      "p-value равен: 0.017\n",
      "Различие между группами: 0.138\n"
     ]
    }
   ],
   "source": [
    "# расчет статистической значимости различий в среднем числе заказов между группами по «сырым» данным\n",
    "sample_a = pd.concat([orders_a_by_users['orders'],pd.Series(0, index=np.arange(data['visitors_a_per_day'].sum() - \n",
    "                                                                           len(orders_a_by_users['orders'])), name='orders')],axis=0)\n",
    "\n",
    "sample_b = pd.concat([orders_b_by_users['orders'],pd.Series(0, index=np.arange(data['visitors_b_per_day'].sum() - \n",
    "                                                                           len(orders_b_by_users['orders'])), name='orders')],axis=0)\n",
    "\n",
    "print(\"p-value равен: {0:.3f}\".format(stats.mannwhitneyu(sample_a, sample_b)[1]))\n",
    "print(\"Различие между группами: {0:.3f}\".format(sample_b.mean() / sample_a.mean() - 1))"
   ]
  },
  {
   "cell_type": "markdown",
   "metadata": {},
   "source": [
    "- Нулевую гипотезу, которая гласит, что статистически значимых различий в среднем числе заказов нет, не отвергаем, т.к. p-value > 0.05\n",
    "- Относительное различие между группами составляет 13.8% (группа В больше)"
   ]
  },
  {
   "cell_type": "markdown",
   "metadata": {},
   "source": [
    "**Нулевая гипотеза: различий в среднем чеке заказов между группами по \"сырым\" данным нет. Альтернативная гипотеза: различия в среднем чеке заказов между группами по \"сырым\" данным есть.**"
   ]
  },
  {
   "cell_type": "code",
   "execution_count": 28,
   "metadata": {},
   "outputs": [
    {
     "name": "stdout",
     "output_type": "stream",
     "text": [
      "p-value равен 0.729\n",
      "Различие между группами: 0.259\n"
     ]
    }
   ],
   "source": [
    "# расчет статистической значимости различий в среднем чеке заказа между группами по «сырым» данным\n",
    "print(\"p-value равен {0:.3f}\".format(stats.mannwhitneyu(orders[orders['group'] == 'A']['revenue'],\n",
    "                                                      orders[orders['group'] == 'B']['revenue'])[1]))\n",
    "print(\"Различие между группами: {0:.3f}\".format(orders[orders['group']=='B']['revenue'].mean()/orders[orders['group']=='A']['revenue'].mean()-1))"
   ]
  },
  {
   "cell_type": "markdown",
   "metadata": {},
   "source": [
    "- Нулевую гипотезу, которая гласит, что статистически значимых различий в среднем чеке нет, не отвергаем, т.к. p-value > 0.05\n",
    "- Относительное различие между группами составляет 25.9% (группа В больше). Надо посмотреть результаты без аномалий. "
   ]
  },
  {
   "cell_type": "code",
   "execution_count": 29,
   "metadata": {},
   "outputs": [
    {
     "name": "stdout",
     "output_type": "stream",
     "text": [
      "Количество аномальных пользователей: 69\n"
     ]
    }
   ],
   "source": [
    "# выделение аномальных пользователей\n",
    "users_many_orders = pd.concat([orders_a_by_users[orders_a_by_users['orders']>2]['visitorId'],\n",
    "                              orders_b_by_users[orders_b_by_users['orders']>2]['visitorId']])\n",
    "anomal_users = pd.concat([users_many_orders, orders[orders['revenue']>28000]['revenue']], axis=0).drop_duplicates()\n",
    "print('Количество аномальных пользователей:', len(pd.concat([users_many_orders, orders[orders['revenue']>28000]['revenue']\n",
    "                                                        ], axis=0).drop_duplicates()))"
   ]
  },
  {
   "cell_type": "markdown",
   "metadata": {},
   "source": [
    "**Нулевая гипотеза: различий в среднем числе заказов между группами по \"очищенным\" данным нет. Альтернативная гипотеза: различия в среднем числе заказов между группами по \"очищенным\" данным есть.**"
   ]
  },
  {
   "cell_type": "code",
   "execution_count": 30,
   "metadata": {},
   "outputs": [
    {
     "name": "stdout",
     "output_type": "stream",
     "text": [
      "p-value без аномалий равен: 0.012\n",
      "Различие между группами без аномалий: 0.170\n"
     ]
    }
   ],
   "source": [
    "# расчет статистической значимости различий в среднем числе заказов между группами по «очищенным» данным \n",
    "filtered_sample_a = pd.concat([orders_a_by_users[np.logical_not(orders_a_by_users['visitorId'].isin(anomal_users))]['orders']\n",
    "                               ,pd.Series(0, index=np.arange(data['visitors_a_per_day'].sum()\n",
    "                                                             - len(orders_a_by_users['orders'])), name='orders')],axis=0)\n",
    "\n",
    "filtered_sample_b = pd.concat([orders_b_by_users[np.logical_not(orders_b_by_users['visitorId'].isin(anomal_users))]['orders']\n",
    "                               ,pd.Series(0, index=np.arange(data['visitors_b_per_day'].sum()\n",
    "                                                             - len(orders_b_by_users['orders'])), name='orders')],axis=0)\n",
    "\n",
    "print(\"p-value без аномалий равен: {0:.3f}\".format(stats.mannwhitneyu(filtered_sample_a, filtered_sample_b)[1]))\n",
    "print(\"Различие между группами без аномалий: {0:.3f}\".format(filtered_sample_b.mean() / filtered_sample_a.mean() - 1))"
   ]
  },
  {
   "cell_type": "markdown",
   "metadata": {},
   "source": [
    "- Нулевую гипотезу не отвергаем\n",
    "- p-value практически не изменилось, а разница в среднем числе заказов увеличилась на 3.2% "
   ]
  },
  {
   "cell_type": "markdown",
   "metadata": {},
   "source": [
    "**Нулевая гипотеза: различий в среднем чеке заказов между группами по \"очищенным\" данным нет. Альтернативная гипотеза: различия в среднем чеке заказов между группами по \"очищенным\" данным есть.**"
   ]
  },
  {
   "cell_type": "code",
   "execution_count": 31,
   "metadata": {},
   "outputs": [
    {
     "name": "stdout",
     "output_type": "stream",
     "text": [
      "p-value без аномалий равен 0.661\n",
      "Различие между группами без аномалий: 0.234\n"
     ]
    }
   ],
   "source": [
    "# расчет статистической значимости различий в среднем чеке заказа между группами по «очищенным» данным\n",
    "print(\"p-value без аномалий равен {0:.3f}\".format(stats.mannwhitneyu(orders[np.logical_and(orders['group'] == 'A',\n",
    "np.logical_not(orders['visitorId'].isin(anomal_users)))]['revenue'],\n",
    "orders[np.logical_and(orders['group'] == 'B', np.logical_not(orders['visitorId'].isin(anomal_users)))]['revenue'])[1]))\n",
    "\n",
    "print(\"Различие между группами без аномалий: {0:.3f}\".format(orders[np.logical_and(orders['group'] == 'B', \n",
    "                                                np.logical_not(orders['visitorId'].isin(anomal_users)))]['revenue'].mean() \n",
    "                                                / orders[np.logical_and(orders['group'] == 'A', \n",
    "                                                np.logical_not(orders['visitorId'].isin(anomal_users)))]['revenue'].mean() - 1))"
   ]
  },
  {
   "cell_type": "markdown",
   "metadata": {},
   "source": [
    "- Нулевую гипотезу не отвергаем\n",
    "- p-value упало на 6.8%, разница между группами упала на 2.5%"
   ]
  },
  {
   "cell_type": "markdown",
   "metadata": {},
   "source": [
    "## Выводы\n",
    "- Статистически значимых различий в среднем числе заказов по \"сырым\" и \"очищенныи\" данным нет, p-value во обоих случаях больше 0.05.\n",
    "- Статистически значимых различий в среднем чеке по \"сырым\" и \"очищенным\" данным нет, p-value во обоих случаях больше 0.05.\n",
    "- Расчеты относительного различия по среднему числу заказов и среднему чеку между группами показали, что группа В лучше группы А. Также можно сказать и по очищенным данным, различие не существенно изменилось на 2.5 и 3.2% по сравнению с \"сырыми\" данными.\n",
    "- График различия по среднему чеку показывает различий в среднем на 20%, но график падает и стабильность не наблюдается.\n",
    "- График различия по конверсии растет, но стабильность значений также не наблюдается"
   ]
  },
  {
   "cell_type": "markdown",
   "metadata": {},
   "source": [
    "**Исходя из этого можно сказать, группа В показала хорошие результаты по сравнению с группой А, об этом говорят графики и расчёты. Но стабильности значений между группами не наблюдается.** \n",
    "\n",
    "**Мои рекомендации сводятся к продолжении теста до получения стабильных метрик, чтобы можно было полноценно оценить А/В тест.**"
   ]
  }
 ],
 "metadata": {
  "ExecuteTimeLog": [
   {
    "duration": 390,
    "start_time": "2022-10-07T07:14:58.794Z"
   },
   {
    "duration": 61,
    "start_time": "2022-10-07T07:17:22.711Z"
   },
   {
    "duration": 7,
    "start_time": "2022-10-07T07:17:32.215Z"
   },
   {
    "duration": 14,
    "start_time": "2022-10-07T07:17:42.210Z"
   },
   {
    "duration": 156,
    "start_time": "2022-10-07T07:20:52.385Z"
   },
   {
    "duration": 8,
    "start_time": "2022-10-07T07:20:53.843Z"
   },
   {
    "duration": 13,
    "start_time": "2022-10-07T07:21:02.181Z"
   },
   {
    "duration": 13,
    "start_time": "2022-10-07T07:21:13.556Z"
   },
   {
    "duration": 24,
    "start_time": "2022-10-07T07:22:29.806Z"
   },
   {
    "duration": 14,
    "start_time": "2022-10-07T08:15:08.453Z"
   },
   {
    "duration": 4,
    "start_time": "2022-10-07T08:16:19.424Z"
   },
   {
    "duration": 6,
    "start_time": "2022-10-07T08:16:30.167Z"
   },
   {
    "duration": 77,
    "start_time": "2022-10-07T08:16:38.838Z"
   },
   {
    "duration": 7,
    "start_time": "2022-10-07T08:16:39.022Z"
   },
   {
    "duration": 77,
    "start_time": "2022-10-07T08:16:47.231Z"
   },
   {
    "duration": 24,
    "start_time": "2022-10-07T08:16:47.623Z"
   },
   {
    "duration": 5,
    "start_time": "2022-10-07T08:16:48.079Z"
   },
   {
    "duration": 16,
    "start_time": "2022-10-07T08:16:49.280Z"
   },
   {
    "duration": 12,
    "start_time": "2022-10-07T08:16:55.031Z"
   },
   {
    "duration": 7,
    "start_time": "2022-10-07T08:18:16.210Z"
   },
   {
    "duration": 12,
    "start_time": "2022-10-07T08:18:16.728Z"
   },
   {
    "duration": 8,
    "start_time": "2022-10-07T08:18:24.473Z"
   },
   {
    "duration": 11,
    "start_time": "2022-10-07T08:18:28.625Z"
   },
   {
    "duration": 2,
    "start_time": "2022-10-07T08:18:51.193Z"
   },
   {
    "duration": 5,
    "start_time": "2022-10-07T08:19:40.866Z"
   },
   {
    "duration": 8,
    "start_time": "2022-10-07T08:21:50.917Z"
   },
   {
    "duration": 11,
    "start_time": "2022-10-07T08:22:01.853Z"
   },
   {
    "duration": 8,
    "start_time": "2022-10-07T08:22:09.205Z"
   },
   {
    "duration": 71,
    "start_time": "2022-10-07T08:22:32.158Z"
   },
   {
    "duration": 48,
    "start_time": "2022-10-07T08:22:43.229Z"
   },
   {
    "duration": 53,
    "start_time": "2022-10-07T08:22:53.446Z"
   },
   {
    "duration": 55,
    "start_time": "2022-10-07T08:22:57.869Z"
   },
   {
    "duration": 17,
    "start_time": "2022-10-07T08:23:01.949Z"
   },
   {
    "duration": 5,
    "start_time": "2022-10-07T08:24:12.671Z"
   },
   {
    "duration": 5,
    "start_time": "2022-10-07T08:24:20.487Z"
   },
   {
    "duration": 6,
    "start_time": "2022-10-07T08:24:48.515Z"
   },
   {
    "duration": 9,
    "start_time": "2022-10-07T08:25:00.416Z"
   },
   {
    "duration": 7,
    "start_time": "2022-10-07T08:25:12.009Z"
   },
   {
    "duration": 3,
    "start_time": "2022-10-07T08:29:39.903Z"
   },
   {
    "duration": 427,
    "start_time": "2022-10-07T08:29:46.371Z"
   },
   {
    "duration": 77,
    "start_time": "2022-10-07T08:29:46.800Z"
   },
   {
    "duration": 24,
    "start_time": "2022-10-07T08:29:46.879Z"
   },
   {
    "duration": 7,
    "start_time": "2022-10-07T08:29:46.906Z"
   },
   {
    "duration": 17,
    "start_time": "2022-10-07T08:29:46.915Z"
   },
   {
    "duration": 22,
    "start_time": "2022-10-07T08:29:46.934Z"
   },
   {
    "duration": 398,
    "start_time": "2022-10-07T09:57:54.632Z"
   },
   {
    "duration": 202,
    "start_time": "2022-10-07T09:57:55.032Z"
   },
   {
    "duration": 40,
    "start_time": "2022-10-07T09:57:55.236Z"
   },
   {
    "duration": 8,
    "start_time": "2022-10-07T09:57:55.278Z"
   },
   {
    "duration": 17,
    "start_time": "2022-10-07T09:57:55.288Z"
   },
   {
    "duration": 4,
    "start_time": "2022-10-07T09:57:55.307Z"
   },
   {
    "duration": 38,
    "start_time": "2022-10-07T09:58:11.374Z"
   },
   {
    "duration": 9,
    "start_time": "2022-10-07T09:58:13.060Z"
   },
   {
    "duration": 13,
    "start_time": "2022-10-07T09:58:13.389Z"
   },
   {
    "duration": 3,
    "start_time": "2022-10-07T09:58:15.525Z"
   },
   {
    "duration": 22,
    "start_time": "2022-10-07T09:58:18.092Z"
   },
   {
    "duration": 11,
    "start_time": "2022-10-07T09:58:26.131Z"
   },
   {
    "duration": 3,
    "start_time": "2022-10-07T09:58:35.421Z"
   },
   {
    "duration": 7,
    "start_time": "2022-10-07T10:00:30.129Z"
   },
   {
    "duration": 12,
    "start_time": "2022-10-07T10:00:34.249Z"
   },
   {
    "duration": 5,
    "start_time": "2022-10-07T10:00:51.136Z"
   },
   {
    "duration": 5,
    "start_time": "2022-10-07T10:00:54.264Z"
   },
   {
    "duration": 9,
    "start_time": "2022-10-07T10:00:54.840Z"
   },
   {
    "duration": 23,
    "start_time": "2022-10-07T10:03:45.179Z"
   },
   {
    "duration": 14,
    "start_time": "2022-10-07T10:04:03.299Z"
   },
   {
    "duration": 10,
    "start_time": "2022-10-07T10:05:01.187Z"
   },
   {
    "duration": 13,
    "start_time": "2022-10-07T10:05:18.209Z"
   },
   {
    "duration": 13,
    "start_time": "2022-10-07T10:08:18.901Z"
   },
   {
    "duration": 13,
    "start_time": "2022-10-07T10:08:25.324Z"
   },
   {
    "duration": 11,
    "start_time": "2022-10-07T10:08:29.733Z"
   },
   {
    "duration": 12,
    "start_time": "2022-10-07T10:09:10.810Z"
   },
   {
    "duration": 15,
    "start_time": "2022-10-07T10:09:38.212Z"
   },
   {
    "duration": 13,
    "start_time": "2022-10-07T10:09:56.901Z"
   },
   {
    "duration": 422,
    "start_time": "2022-10-07T10:10:00.915Z"
   },
   {
    "duration": 96,
    "start_time": "2022-10-07T10:10:01.339Z"
   },
   {
    "duration": 28,
    "start_time": "2022-10-07T10:10:01.437Z"
   },
   {
    "duration": 12,
    "start_time": "2022-10-07T10:10:01.467Z"
   },
   {
    "duration": 32,
    "start_time": "2022-10-07T10:10:01.481Z"
   },
   {
    "duration": 22,
    "start_time": "2022-10-07T10:10:01.515Z"
   },
   {
    "duration": 14,
    "start_time": "2022-10-07T10:10:01.540Z"
   },
   {
    "duration": 13,
    "start_time": "2022-10-07T10:10:01.556Z"
   },
   {
    "duration": 12,
    "start_time": "2022-10-07T10:11:23.915Z"
   },
   {
    "duration": 13,
    "start_time": "2022-10-07T10:18:14.504Z"
   },
   {
    "duration": 14,
    "start_time": "2022-10-07T10:18:14.985Z"
   },
   {
    "duration": 411,
    "start_time": "2022-10-07T10:46:10.742Z"
   },
   {
    "duration": 101,
    "start_time": "2022-10-07T10:46:11.156Z"
   },
   {
    "duration": 26,
    "start_time": "2022-10-07T10:46:11.259Z"
   },
   {
    "duration": 30,
    "start_time": "2022-10-07T10:46:11.287Z"
   },
   {
    "duration": 26,
    "start_time": "2022-10-07T10:46:11.319Z"
   },
   {
    "duration": 20,
    "start_time": "2022-10-07T10:46:11.348Z"
   },
   {
    "duration": 26,
    "start_time": "2022-10-07T10:46:11.371Z"
   },
   {
    "duration": 22,
    "start_time": "2022-10-07T10:46:11.399Z"
   },
   {
    "duration": 16,
    "start_time": "2022-10-07T10:49:07.557Z"
   },
   {
    "duration": 10,
    "start_time": "2022-10-07T10:49:24.164Z"
   },
   {
    "duration": 10,
    "start_time": "2022-10-07T10:49:33.908Z"
   },
   {
    "duration": 19,
    "start_time": "2022-10-07T13:31:36.091Z"
   },
   {
    "duration": 95,
    "start_time": "2022-10-07T13:37:23.016Z"
   },
   {
    "duration": 14,
    "start_time": "2022-10-07T13:38:18.126Z"
   },
   {
    "duration": 455,
    "start_time": "2022-10-07T13:38:30.551Z"
   },
   {
    "duration": 91,
    "start_time": "2022-10-07T13:38:31.012Z"
   },
   {
    "duration": 31,
    "start_time": "2022-10-07T13:38:31.106Z"
   },
   {
    "duration": 15,
    "start_time": "2022-10-07T13:38:31.140Z"
   },
   {
    "duration": 43,
    "start_time": "2022-10-07T13:38:31.157Z"
   },
   {
    "duration": 75,
    "start_time": "2022-10-07T13:38:31.203Z"
   },
   {
    "duration": 69,
    "start_time": "2022-10-07T13:38:31.280Z"
   },
   {
    "duration": 43,
    "start_time": "2022-10-07T13:38:31.351Z"
   },
   {
    "duration": 67,
    "start_time": "2022-10-07T13:38:31.396Z"
   },
   {
    "duration": 135,
    "start_time": "2022-10-07T13:38:31.465Z"
   },
   {
    "duration": 2049,
    "start_time": "2022-10-07T13:39:22.605Z"
   },
   {
    "duration": 8,
    "start_time": "2022-10-07T13:40:11.185Z"
   },
   {
    "duration": 12,
    "start_time": "2022-10-07T13:40:21.057Z"
   },
   {
    "duration": 14,
    "start_time": "2022-10-07T13:41:24.544Z"
   },
   {
    "duration": 13,
    "start_time": "2022-10-07T13:41:32.232Z"
   },
   {
    "duration": 14,
    "start_time": "2022-10-07T13:41:36.247Z"
   },
   {
    "duration": 16,
    "start_time": "2022-10-07T13:41:51.959Z"
   },
   {
    "duration": 18,
    "start_time": "2022-10-07T13:42:17.119Z"
   },
   {
    "duration": 99,
    "start_time": "2022-10-07T14:16:13.346Z"
   },
   {
    "duration": 1467,
    "start_time": "2022-10-07T14:16:18.063Z"
   },
   {
    "duration": 1161,
    "start_time": "2022-10-07T14:16:33.688Z"
   },
   {
    "duration": 1345,
    "start_time": "2022-10-07T14:17:27.834Z"
   },
   {
    "duration": 99,
    "start_time": "2022-10-07T14:18:57.956Z"
   },
   {
    "duration": 56,
    "start_time": "2022-10-07T14:19:03.739Z"
   },
   {
    "duration": 63,
    "start_time": "2022-10-07T14:19:08.818Z"
   },
   {
    "duration": 83,
    "start_time": "2022-10-07T14:21:10.042Z"
   },
   {
    "duration": 130,
    "start_time": "2022-10-07T14:21:25.040Z"
   },
   {
    "duration": 111,
    "start_time": "2022-10-07T14:21:37.718Z"
   },
   {
    "duration": 435,
    "start_time": "2022-10-08T06:57:01.442Z"
   },
   {
    "duration": 198,
    "start_time": "2022-10-08T06:57:01.878Z"
   },
   {
    "duration": 23,
    "start_time": "2022-10-08T06:57:02.077Z"
   },
   {
    "duration": 7,
    "start_time": "2022-10-08T06:57:02.102Z"
   },
   {
    "duration": 23,
    "start_time": "2022-10-08T06:57:02.110Z"
   },
   {
    "duration": 38,
    "start_time": "2022-10-08T06:57:02.135Z"
   },
   {
    "duration": 15,
    "start_time": "2022-10-08T06:57:02.175Z"
   },
   {
    "duration": 13,
    "start_time": "2022-10-08T06:57:02.192Z"
   },
   {
    "duration": 17,
    "start_time": "2022-10-08T06:57:02.206Z"
   },
   {
    "duration": 94,
    "start_time": "2022-10-08T06:57:02.225Z"
   },
   {
    "duration": 4,
    "start_time": "2022-10-08T07:13:18.898Z"
   },
   {
    "duration": 4,
    "start_time": "2022-10-08T07:13:40.635Z"
   },
   {
    "duration": 10,
    "start_time": "2022-10-08T07:13:49.142Z"
   },
   {
    "duration": 7,
    "start_time": "2022-10-08T07:14:28.251Z"
   },
   {
    "duration": 9,
    "start_time": "2022-10-08T07:17:24.203Z"
   },
   {
    "duration": 6,
    "start_time": "2022-10-08T07:26:29.802Z"
   },
   {
    "duration": 89,
    "start_time": "2022-10-08T07:32:21.891Z"
   },
   {
    "duration": 2,
    "start_time": "2022-10-08T07:37:40.746Z"
   },
   {
    "duration": 5,
    "start_time": "2022-10-08T07:38:47.006Z"
   },
   {
    "duration": 12,
    "start_time": "2022-10-08T07:38:55.798Z"
   },
   {
    "duration": 15,
    "start_time": "2022-10-08T07:39:18.728Z"
   },
   {
    "duration": 74,
    "start_time": "2022-10-08T07:43:18.484Z"
   },
   {
    "duration": 638,
    "start_time": "2022-10-08T07:43:31.692Z"
   },
   {
    "duration": 662,
    "start_time": "2022-10-08T07:44:18.909Z"
   },
   {
    "duration": 363,
    "start_time": "2022-10-08T07:45:21.280Z"
   },
   {
    "duration": 80,
    "start_time": "2022-10-08T07:45:21.647Z"
   },
   {
    "duration": 27,
    "start_time": "2022-10-08T07:45:21.728Z"
   },
   {
    "duration": 6,
    "start_time": "2022-10-08T07:45:21.758Z"
   },
   {
    "duration": 13,
    "start_time": "2022-10-08T07:45:21.766Z"
   },
   {
    "duration": 16,
    "start_time": "2022-10-08T07:45:21.780Z"
   },
   {
    "duration": 15,
    "start_time": "2022-10-08T07:45:21.797Z"
   },
   {
    "duration": 39,
    "start_time": "2022-10-08T07:45:21.813Z"
   },
   {
    "duration": 12,
    "start_time": "2022-10-08T07:45:21.855Z"
   },
   {
    "duration": 117,
    "start_time": "2022-10-08T07:45:21.870Z"
   },
   {
    "duration": 623,
    "start_time": "2022-10-08T07:45:21.989Z"
   },
   {
    "duration": 713,
    "start_time": "2022-10-08T07:46:27.165Z"
   },
   {
    "duration": 700,
    "start_time": "2022-10-08T07:46:38.663Z"
   },
   {
    "duration": 1684,
    "start_time": "2022-10-08T07:48:35.264Z"
   },
   {
    "duration": 646,
    "start_time": "2022-10-08T07:56:59.602Z"
   },
   {
    "duration": 10,
    "start_time": "2022-10-08T08:04:34.993Z"
   },
   {
    "duration": 53,
    "start_time": "2022-10-08T08:04:57.466Z"
   },
   {
    "duration": 99,
    "start_time": "2022-10-08T08:05:17.338Z"
   },
   {
    "duration": 9,
    "start_time": "2022-10-08T08:05:54.276Z"
   },
   {
    "duration": 9,
    "start_time": "2022-10-08T08:05:56.485Z"
   },
   {
    "duration": 53,
    "start_time": "2022-10-08T08:06:52.631Z"
   },
   {
    "duration": 9,
    "start_time": "2022-10-08T08:06:56.093Z"
   },
   {
    "duration": 52,
    "start_time": "2022-10-08T08:09:25.185Z"
   },
   {
    "duration": 7,
    "start_time": "2022-10-08T08:09:28.361Z"
   },
   {
    "duration": 98,
    "start_time": "2022-10-08T08:20:33.206Z"
   },
   {
    "duration": 9,
    "start_time": "2022-10-08T08:20:33.949Z"
   },
   {
    "duration": 93,
    "start_time": "2022-10-08T08:21:07.478Z"
   },
   {
    "duration": 9,
    "start_time": "2022-10-08T08:21:09.966Z"
   },
   {
    "duration": 93,
    "start_time": "2022-10-08T08:21:33.126Z"
   },
   {
    "duration": 7,
    "start_time": "2022-10-08T08:21:33.966Z"
   },
   {
    "duration": 91,
    "start_time": "2022-10-08T08:21:43.557Z"
   },
   {
    "duration": 9,
    "start_time": "2022-10-08T08:21:46.111Z"
   },
   {
    "duration": 91,
    "start_time": "2022-10-08T08:21:57.609Z"
   },
   {
    "duration": 12,
    "start_time": "2022-10-08T08:21:58.160Z"
   },
   {
    "duration": 8,
    "start_time": "2022-10-08T08:22:05.471Z"
   },
   {
    "duration": 11,
    "start_time": "2022-10-08T08:25:07.859Z"
   },
   {
    "duration": 6,
    "start_time": "2022-10-08T08:30:09.048Z"
   },
   {
    "duration": 10,
    "start_time": "2022-10-08T08:30:13.559Z"
   },
   {
    "duration": 47,
    "start_time": "2022-10-08T08:33:29.392Z"
   },
   {
    "duration": 22,
    "start_time": "2022-10-08T08:33:36.715Z"
   },
   {
    "duration": 14,
    "start_time": "2022-10-08T08:33:37.581Z"
   },
   {
    "duration": 13,
    "start_time": "2022-10-08T08:34:33.559Z"
   },
   {
    "duration": 426,
    "start_time": "2022-10-08T08:35:21.059Z"
   },
   {
    "duration": 77,
    "start_time": "2022-10-08T08:35:21.488Z"
   },
   {
    "duration": 24,
    "start_time": "2022-10-08T08:35:21.567Z"
   },
   {
    "duration": 13,
    "start_time": "2022-10-08T08:35:21.593Z"
   },
   {
    "duration": 17,
    "start_time": "2022-10-08T08:35:21.609Z"
   },
   {
    "duration": 14,
    "start_time": "2022-10-08T08:35:21.627Z"
   },
   {
    "duration": 14,
    "start_time": "2022-10-08T08:35:21.643Z"
   },
   {
    "duration": 10,
    "start_time": "2022-10-08T08:35:21.659Z"
   },
   {
    "duration": 10,
    "start_time": "2022-10-08T08:35:21.670Z"
   },
   {
    "duration": 152,
    "start_time": "2022-10-08T08:35:21.681Z"
   },
   {
    "duration": 124,
    "start_time": "2022-10-08T08:35:21.835Z"
   },
   {
    "duration": 21,
    "start_time": "2022-10-08T08:35:21.961Z"
   },
   {
    "duration": 14,
    "start_time": "2022-10-08T08:35:21.983Z"
   },
   {
    "duration": 814,
    "start_time": "2022-10-08T12:22:15.523Z"
   },
   {
    "duration": 86,
    "start_time": "2022-10-08T12:22:16.340Z"
   },
   {
    "duration": 33,
    "start_time": "2022-10-08T12:22:16.428Z"
   },
   {
    "duration": 21,
    "start_time": "2022-10-08T12:22:16.464Z"
   },
   {
    "duration": 11,
    "start_time": "2022-10-08T12:22:16.487Z"
   },
   {
    "duration": 15,
    "start_time": "2022-10-08T12:22:16.500Z"
   },
   {
    "duration": 17,
    "start_time": "2022-10-08T12:22:16.517Z"
   },
   {
    "duration": 10,
    "start_time": "2022-10-08T12:22:16.535Z"
   },
   {
    "duration": 12,
    "start_time": "2022-10-08T12:22:16.546Z"
   },
   {
    "duration": 107,
    "start_time": "2022-10-08T12:22:16.561Z"
   },
   {
    "duration": 111,
    "start_time": "2022-10-08T12:22:16.669Z"
   },
   {
    "duration": 20,
    "start_time": "2022-10-08T12:22:16.782Z"
   },
   {
    "duration": 9,
    "start_time": "2022-10-08T12:22:16.804Z"
   },
   {
    "duration": 20,
    "start_time": "2022-10-08T12:22:16.814Z"
   },
   {
    "duration": 67,
    "start_time": "2022-10-08T12:23:27.050Z"
   },
   {
    "duration": 235,
    "start_time": "2022-10-08T12:23:45.743Z"
   },
   {
    "duration": 187,
    "start_time": "2022-10-08T12:24:06.664Z"
   },
   {
    "duration": 160,
    "start_time": "2022-10-08T12:24:15.353Z"
   },
   {
    "duration": 198,
    "start_time": "2022-10-08T12:25:20.818Z"
   },
   {
    "duration": 19,
    "start_time": "2022-10-08T12:32:47.770Z"
   },
   {
    "duration": 596,
    "start_time": "2022-10-08T12:32:51.443Z"
   },
   {
    "duration": 78,
    "start_time": "2022-10-08T12:32:52.041Z"
   },
   {
    "duration": 25,
    "start_time": "2022-10-08T12:32:52.120Z"
   },
   {
    "duration": 12,
    "start_time": "2022-10-08T12:32:52.147Z"
   },
   {
    "duration": 14,
    "start_time": "2022-10-08T12:32:52.161Z"
   },
   {
    "duration": 11,
    "start_time": "2022-10-08T12:32:52.177Z"
   },
   {
    "duration": 15,
    "start_time": "2022-10-08T12:32:52.190Z"
   },
   {
    "duration": 33,
    "start_time": "2022-10-08T12:32:52.208Z"
   },
   {
    "duration": 10,
    "start_time": "2022-10-08T12:32:52.243Z"
   },
   {
    "duration": 103,
    "start_time": "2022-10-08T12:32:52.256Z"
   },
   {
    "duration": 104,
    "start_time": "2022-10-08T12:32:52.360Z"
   },
   {
    "duration": 18,
    "start_time": "2022-10-08T12:32:52.466Z"
   },
   {
    "duration": 9,
    "start_time": "2022-10-08T12:32:52.485Z"
   },
   {
    "duration": 246,
    "start_time": "2022-10-08T12:32:52.496Z"
   },
   {
    "duration": 2,
    "start_time": "2022-10-08T12:32:52.744Z"
   },
   {
    "duration": 156,
    "start_time": "2022-10-08T12:33:42.006Z"
   },
   {
    "duration": 155,
    "start_time": "2022-10-08T12:50:31.842Z"
   },
   {
    "duration": 268,
    "start_time": "2022-10-08T12:51:37.730Z"
   },
   {
    "duration": 246,
    "start_time": "2022-10-08T12:51:40.970Z"
   },
   {
    "duration": 155,
    "start_time": "2022-10-08T12:51:48.066Z"
   },
   {
    "duration": 147,
    "start_time": "2022-10-08T12:51:53.449Z"
   },
   {
    "duration": 278,
    "start_time": "2022-10-08T12:51:57.610Z"
   },
   {
    "duration": 2,
    "start_time": "2022-10-08T13:01:22.692Z"
   },
   {
    "duration": 242,
    "start_time": "2022-10-08T13:05:46.249Z"
   },
   {
    "duration": 174,
    "start_time": "2022-10-08T13:09:04.573Z"
   },
   {
    "duration": 193,
    "start_time": "2022-10-08T13:09:34.934Z"
   },
   {
    "duration": 184,
    "start_time": "2022-10-08T13:10:04.815Z"
   },
   {
    "duration": 200,
    "start_time": "2022-10-08T13:10:16.055Z"
   },
   {
    "duration": 12,
    "start_time": "2022-10-08T13:10:30.558Z"
   },
   {
    "duration": 4,
    "start_time": "2022-10-08T13:11:23.489Z"
   },
   {
    "duration": 183,
    "start_time": "2022-10-08T13:11:33.024Z"
   },
   {
    "duration": 265,
    "start_time": "2022-10-08T13:11:45.233Z"
   },
   {
    "duration": 178,
    "start_time": "2022-10-08T13:11:58.097Z"
   },
   {
    "duration": 186,
    "start_time": "2022-10-08T13:13:49.658Z"
   },
   {
    "duration": 270,
    "start_time": "2022-10-08T13:19:24.457Z"
   },
   {
    "duration": 988,
    "start_time": "2022-10-08T13:23:38.591Z"
   },
   {
    "duration": 77,
    "start_time": "2022-10-08T13:23:39.580Z"
   },
   {
    "duration": 23,
    "start_time": "2022-10-08T13:23:39.659Z"
   },
   {
    "duration": 15,
    "start_time": "2022-10-08T13:23:39.684Z"
   },
   {
    "duration": 15,
    "start_time": "2022-10-08T13:23:39.700Z"
   },
   {
    "duration": 12,
    "start_time": "2022-10-08T13:23:39.717Z"
   },
   {
    "duration": 19,
    "start_time": "2022-10-08T13:23:39.731Z"
   },
   {
    "duration": 11,
    "start_time": "2022-10-08T13:23:39.752Z"
   },
   {
    "duration": 10,
    "start_time": "2022-10-08T13:23:39.765Z"
   },
   {
    "duration": 110,
    "start_time": "2022-10-08T13:23:39.778Z"
   },
   {
    "duration": 101,
    "start_time": "2022-10-08T13:23:39.889Z"
   },
   {
    "duration": 19,
    "start_time": "2022-10-08T13:23:39.991Z"
   },
   {
    "duration": 26,
    "start_time": "2022-10-08T13:23:40.012Z"
   },
   {
    "duration": 254,
    "start_time": "2022-10-08T13:23:40.040Z"
   },
   {
    "duration": 165,
    "start_time": "2022-10-08T13:23:40.295Z"
   },
   {
    "duration": 258,
    "start_time": "2022-10-08T13:23:40.461Z"
   },
   {
    "duration": 176,
    "start_time": "2022-10-08T13:23:40.721Z"
   },
   {
    "duration": 263,
    "start_time": "2022-10-08T13:23:40.898Z"
   },
   {
    "duration": 2,
    "start_time": "2022-10-08T13:23:41.163Z"
   },
   {
    "duration": 813,
    "start_time": "2022-10-08T13:33:33.469Z"
   },
   {
    "duration": 113,
    "start_time": "2022-10-08T13:33:50.557Z"
   },
   {
    "duration": 122,
    "start_time": "2022-10-08T13:34:24.502Z"
   },
   {
    "duration": 109,
    "start_time": "2022-10-08T13:34:37.413Z"
   },
   {
    "duration": 172,
    "start_time": "2022-10-08T13:36:14.647Z"
   },
   {
    "duration": 101,
    "start_time": "2022-10-08T13:36:54.688Z"
   },
   {
    "duration": 105,
    "start_time": "2022-10-08T13:37:01.041Z"
   },
   {
    "duration": 123,
    "start_time": "2022-10-08T13:37:30.016Z"
   },
   {
    "duration": 114,
    "start_time": "2022-10-08T13:37:35.401Z"
   },
   {
    "duration": 119,
    "start_time": "2022-10-08T13:59:09.345Z"
   },
   {
    "duration": 13,
    "start_time": "2022-10-08T14:00:33.043Z"
   },
   {
    "duration": 180,
    "start_time": "2022-10-08T14:01:07.461Z"
   },
   {
    "duration": 15,
    "start_time": "2022-10-08T14:01:29.692Z"
   },
   {
    "duration": 15,
    "start_time": "2022-10-08T14:01:35.064Z"
   },
   {
    "duration": 177,
    "start_time": "2022-10-08T14:02:07.173Z"
   },
   {
    "duration": 11,
    "start_time": "2022-10-08T14:02:18.925Z"
   },
   {
    "duration": 6,
    "start_time": "2022-10-08T14:05:12.888Z"
   },
   {
    "duration": 954,
    "start_time": "2022-10-08T14:06:00.465Z"
   },
   {
    "duration": 105,
    "start_time": "2022-10-08T14:06:14.364Z"
   },
   {
    "duration": 100,
    "start_time": "2022-10-08T14:07:08.266Z"
   },
   {
    "duration": 112,
    "start_time": "2022-10-08T14:07:16.978Z"
   },
   {
    "duration": 4,
    "start_time": "2022-10-08T14:21:40.525Z"
   },
   {
    "duration": 5,
    "start_time": "2022-10-08T14:21:53.250Z"
   },
   {
    "duration": 5,
    "start_time": "2022-10-08T14:23:08.566Z"
   },
   {
    "duration": 140,
    "start_time": "2022-10-08T14:28:36.380Z"
   },
   {
    "duration": 1052,
    "start_time": "2022-10-08T14:28:40.549Z"
   },
   {
    "duration": 79,
    "start_time": "2022-10-08T14:28:41.603Z"
   },
   {
    "duration": 36,
    "start_time": "2022-10-08T14:28:41.684Z"
   },
   {
    "duration": 15,
    "start_time": "2022-10-08T14:28:41.723Z"
   },
   {
    "duration": 13,
    "start_time": "2022-10-08T14:28:41.741Z"
   },
   {
    "duration": 14,
    "start_time": "2022-10-08T14:28:41.756Z"
   },
   {
    "duration": 12,
    "start_time": "2022-10-08T14:28:41.772Z"
   },
   {
    "duration": 11,
    "start_time": "2022-10-08T14:28:41.786Z"
   },
   {
    "duration": 35,
    "start_time": "2022-10-08T14:28:41.798Z"
   },
   {
    "duration": 99,
    "start_time": "2022-10-08T14:28:41.836Z"
   },
   {
    "duration": 106,
    "start_time": "2022-10-08T14:28:41.936Z"
   },
   {
    "duration": 20,
    "start_time": "2022-10-08T14:28:42.044Z"
   },
   {
    "duration": 11,
    "start_time": "2022-10-08T14:28:42.065Z"
   },
   {
    "duration": 270,
    "start_time": "2022-10-08T14:28:42.078Z"
   },
   {
    "duration": 164,
    "start_time": "2022-10-08T14:28:42.349Z"
   },
   {
    "duration": 295,
    "start_time": "2022-10-08T14:28:42.515Z"
   },
   {
    "duration": 202,
    "start_time": "2022-10-08T14:28:42.813Z"
   },
   {
    "duration": 318,
    "start_time": "2022-10-08T14:28:43.017Z"
   },
   {
    "duration": 110,
    "start_time": "2022-10-08T14:28:43.337Z"
   },
   {
    "duration": 4,
    "start_time": "2022-10-08T14:28:43.449Z"
   },
   {
    "duration": 14,
    "start_time": "2022-10-08T14:28:43.454Z"
   },
   {
    "duration": 189,
    "start_time": "2022-10-08T14:35:35.383Z"
   },
   {
    "duration": 112,
    "start_time": "2022-10-08T14:35:48.510Z"
   },
   {
    "duration": 169,
    "start_time": "2022-10-08T14:35:58.150Z"
   },
   {
    "duration": 126,
    "start_time": "2022-10-08T14:39:27.353Z"
   },
   {
    "duration": 5,
    "start_time": "2022-10-08T14:42:16.909Z"
   },
   {
    "duration": 5,
    "start_time": "2022-10-08T14:42:54.504Z"
   },
   {
    "duration": 15,
    "start_time": "2022-10-08T14:53:11.115Z"
   },
   {
    "duration": 10,
    "start_time": "2022-10-08T14:53:22.123Z"
   },
   {
    "duration": 989,
    "start_time": "2022-10-08T15:34:20.294Z"
   },
   {
    "duration": 79,
    "start_time": "2022-10-08T15:34:21.285Z"
   },
   {
    "duration": 24,
    "start_time": "2022-10-08T15:34:21.365Z"
   },
   {
    "duration": 6,
    "start_time": "2022-10-08T15:34:21.392Z"
   },
   {
    "duration": 9,
    "start_time": "2022-10-08T15:34:21.400Z"
   },
   {
    "duration": 11,
    "start_time": "2022-10-08T15:34:21.411Z"
   },
   {
    "duration": 17,
    "start_time": "2022-10-08T15:34:21.423Z"
   },
   {
    "duration": 10,
    "start_time": "2022-10-08T15:34:21.442Z"
   },
   {
    "duration": 10,
    "start_time": "2022-10-08T15:34:21.454Z"
   },
   {
    "duration": 100,
    "start_time": "2022-10-08T15:34:21.466Z"
   },
   {
    "duration": 99,
    "start_time": "2022-10-08T15:34:21.567Z"
   },
   {
    "duration": 20,
    "start_time": "2022-10-08T15:34:21.668Z"
   },
   {
    "duration": 9,
    "start_time": "2022-10-08T15:34:21.689Z"
   },
   {
    "duration": 254,
    "start_time": "2022-10-08T15:34:21.699Z"
   },
   {
    "duration": 174,
    "start_time": "2022-10-08T15:34:21.955Z"
   },
   {
    "duration": 297,
    "start_time": "2022-10-08T15:34:22.131Z"
   },
   {
    "duration": 179,
    "start_time": "2022-10-08T15:34:22.434Z"
   },
   {
    "duration": 288,
    "start_time": "2022-10-08T15:34:22.614Z"
   },
   {
    "duration": 115,
    "start_time": "2022-10-08T15:34:22.904Z"
   },
   {
    "duration": 12,
    "start_time": "2022-10-08T15:34:23.021Z"
   },
   {
    "duration": 119,
    "start_time": "2022-10-08T15:34:23.035Z"
   },
   {
    "duration": 4,
    "start_time": "2022-10-08T15:34:23.156Z"
   },
   {
    "duration": 21,
    "start_time": "2022-10-08T15:34:23.162Z"
   },
   {
    "duration": 11,
    "start_time": "2022-10-08T15:39:59.583Z"
   },
   {
    "duration": 13,
    "start_time": "2022-10-08T15:53:54.854Z"
   },
   {
    "duration": 5,
    "start_time": "2022-10-08T15:54:14.049Z"
   },
   {
    "duration": 13,
    "start_time": "2022-10-08T15:54:24.414Z"
   },
   {
    "duration": 5,
    "start_time": "2022-10-08T15:54:25.127Z"
   },
   {
    "duration": 5,
    "start_time": "2022-10-08T15:54:30.666Z"
   },
   {
    "duration": 33,
    "start_time": "2022-10-08T16:10:04.159Z"
   },
   {
    "duration": 31,
    "start_time": "2022-10-08T16:10:26.954Z"
   },
   {
    "duration": 93,
    "start_time": "2022-10-08T16:23:14.069Z"
   },
   {
    "duration": 53,
    "start_time": "2022-10-08T16:23:26.269Z"
   },
   {
    "duration": 11,
    "start_time": "2022-10-08T16:23:27.693Z"
   },
   {
    "duration": 16,
    "start_time": "2022-10-08T16:23:32.622Z"
   },
   {
    "duration": 795,
    "start_time": "2022-10-08T16:24:18.296Z"
   },
   {
    "duration": 23,
    "start_time": "2022-10-08T16:24:30.807Z"
   },
   {
    "duration": 11,
    "start_time": "2022-10-08T16:24:51.456Z"
   },
   {
    "duration": 774,
    "start_time": "2022-10-08T16:25:15.792Z"
   },
   {
    "duration": 13,
    "start_time": "2022-10-08T16:25:26.528Z"
   },
   {
    "duration": 9,
    "start_time": "2022-10-08T16:26:02.577Z"
   },
   {
    "duration": 20,
    "start_time": "2022-10-08T16:27:14.546Z"
   },
   {
    "duration": 13,
    "start_time": "2022-10-08T16:27:34.810Z"
   },
   {
    "duration": 35,
    "start_time": "2022-10-08T16:31:41.792Z"
   },
   {
    "duration": 52,
    "start_time": "2022-10-08T16:31:45.940Z"
   },
   {
    "duration": 13,
    "start_time": "2022-10-08T16:31:58.135Z"
   },
   {
    "duration": 739,
    "start_time": "2022-10-08T16:36:09.132Z"
   },
   {
    "duration": 7,
    "start_time": "2022-10-08T16:36:23.948Z"
   },
   {
    "duration": 7,
    "start_time": "2022-10-08T16:36:28.611Z"
   },
   {
    "duration": 11,
    "start_time": "2022-10-08T16:36:50.237Z"
   },
   {
    "duration": 5,
    "start_time": "2022-10-08T16:37:05.901Z"
   },
   {
    "duration": 13,
    "start_time": "2022-10-08T16:37:19.100Z"
   },
   {
    "duration": 13,
    "start_time": "2022-10-08T16:37:29.613Z"
   },
   {
    "duration": 14,
    "start_time": "2022-10-08T16:37:44.831Z"
   },
   {
    "duration": 954,
    "start_time": "2022-10-08T16:38:05.741Z"
   },
   {
    "duration": 6,
    "start_time": "2022-10-08T16:38:16.094Z"
   },
   {
    "duration": 6,
    "start_time": "2022-10-08T16:39:40.127Z"
   },
   {
    "duration": 10,
    "start_time": "2022-10-08T16:42:24.010Z"
   },
   {
    "duration": 10,
    "start_time": "2022-10-08T16:42:28.938Z"
   },
   {
    "duration": 9,
    "start_time": "2022-10-08T16:43:03.787Z"
   },
   {
    "duration": 13,
    "start_time": "2022-10-08T16:43:08.123Z"
   },
   {
    "duration": 11,
    "start_time": "2022-10-08T16:43:45.268Z"
   },
   {
    "duration": 8,
    "start_time": "2022-10-08T16:44:37.439Z"
   },
   {
    "duration": 11,
    "start_time": "2022-10-08T16:45:02.926Z"
   },
   {
    "duration": 17,
    "start_time": "2022-10-08T16:45:20.957Z"
   },
   {
    "duration": 13,
    "start_time": "2022-10-08T16:45:28.952Z"
   },
   {
    "duration": 10,
    "start_time": "2022-10-08T16:45:31.622Z"
   },
   {
    "duration": 8,
    "start_time": "2022-10-08T16:46:12.366Z"
   },
   {
    "duration": 5,
    "start_time": "2022-10-08T16:49:22.970Z"
   },
   {
    "duration": 9,
    "start_time": "2022-10-08T16:50:17.973Z"
   },
   {
    "duration": 8,
    "start_time": "2022-10-08T16:50:28.619Z"
   },
   {
    "duration": 7,
    "start_time": "2022-10-08T16:51:38.109Z"
   },
   {
    "duration": 26,
    "start_time": "2022-10-08T16:52:39.358Z"
   },
   {
    "duration": 8,
    "start_time": "2022-10-08T17:18:34.108Z"
   },
   {
    "duration": 10,
    "start_time": "2022-10-08T17:20:41.415Z"
   },
   {
    "duration": 15,
    "start_time": "2022-10-08T17:25:02.538Z"
   },
   {
    "duration": 13,
    "start_time": "2022-10-08T17:30:18.088Z"
   },
   {
    "duration": 28,
    "start_time": "2022-10-08T17:30:23.289Z"
   },
   {
    "duration": 13,
    "start_time": "2022-10-08T17:30:24.919Z"
   },
   {
    "duration": 13,
    "start_time": "2022-10-08T17:32:01.138Z"
   },
   {
    "duration": 13,
    "start_time": "2022-10-08T17:33:02.796Z"
   },
   {
    "duration": 89,
    "start_time": "2022-10-08T18:22:12.610Z"
   },
   {
    "duration": 1159,
    "start_time": "2022-10-08T18:26:27.130Z"
   },
   {
    "duration": 77,
    "start_time": "2022-10-08T18:26:28.291Z"
   },
   {
    "duration": 25,
    "start_time": "2022-10-08T18:26:28.369Z"
   },
   {
    "duration": 10,
    "start_time": "2022-10-08T18:26:28.396Z"
   },
   {
    "duration": 10,
    "start_time": "2022-10-08T18:26:28.409Z"
   },
   {
    "duration": 11,
    "start_time": "2022-10-08T18:26:28.421Z"
   },
   {
    "duration": 11,
    "start_time": "2022-10-08T18:26:28.434Z"
   },
   {
    "duration": 11,
    "start_time": "2022-10-08T18:26:28.447Z"
   },
   {
    "duration": 12,
    "start_time": "2022-10-08T18:26:28.460Z"
   },
   {
    "duration": 121,
    "start_time": "2022-10-08T18:26:28.474Z"
   },
   {
    "duration": 114,
    "start_time": "2022-10-08T18:26:28.597Z"
   },
   {
    "duration": 30,
    "start_time": "2022-10-08T18:26:28.713Z"
   },
   {
    "duration": 12,
    "start_time": "2022-10-08T18:26:28.746Z"
   },
   {
    "duration": 284,
    "start_time": "2022-10-08T18:26:28.762Z"
   },
   {
    "duration": 166,
    "start_time": "2022-10-08T18:26:29.048Z"
   },
   {
    "duration": 326,
    "start_time": "2022-10-08T18:26:29.216Z"
   },
   {
    "duration": 207,
    "start_time": "2022-10-08T18:26:29.545Z"
   },
   {
    "duration": 296,
    "start_time": "2022-10-08T18:26:29.754Z"
   },
   {
    "duration": 117,
    "start_time": "2022-10-08T18:26:30.052Z"
   },
   {
    "duration": 6,
    "start_time": "2022-10-08T18:26:30.171Z"
   },
   {
    "duration": 167,
    "start_time": "2022-10-08T18:26:30.178Z"
   },
   {
    "duration": 5,
    "start_time": "2022-10-08T18:26:30.347Z"
   },
   {
    "duration": 40,
    "start_time": "2022-10-08T18:26:30.354Z"
   },
   {
    "duration": 9,
    "start_time": "2022-10-08T18:26:30.395Z"
   },
   {
    "duration": 7,
    "start_time": "2022-10-08T18:26:30.406Z"
   },
   {
    "duration": 44,
    "start_time": "2022-10-08T18:26:30.415Z"
   },
   {
    "duration": 14,
    "start_time": "2022-10-08T18:26:30.461Z"
   },
   {
    "duration": 959,
    "start_time": "2022-10-08T20:18:22.666Z"
   },
   {
    "duration": 186,
    "start_time": "2022-10-08T20:18:23.627Z"
   },
   {
    "duration": 22,
    "start_time": "2022-10-08T20:18:42.551Z"
   },
   {
    "duration": 5,
    "start_time": "2022-10-08T20:18:46.693Z"
   },
   {
    "duration": 8,
    "start_time": "2022-10-08T20:18:55.179Z"
   },
   {
    "duration": 53,
    "start_time": "2022-10-08T20:20:50.745Z"
   },
   {
    "duration": 49,
    "start_time": "2022-10-08T20:21:22.429Z"
   },
   {
    "duration": 8,
    "start_time": "2022-10-08T20:22:02.797Z"
   },
   {
    "duration": 48,
    "start_time": "2022-10-08T20:23:49.435Z"
   },
   {
    "duration": 16,
    "start_time": "2022-10-08T20:24:29.978Z"
   },
   {
    "duration": 99,
    "start_time": "2022-10-08T20:26:31.796Z"
   },
   {
    "duration": 51,
    "start_time": "2022-10-09T06:10:42.579Z"
   },
   {
    "duration": 1221,
    "start_time": "2022-10-09T06:10:46.914Z"
   },
   {
    "duration": 195,
    "start_time": "2022-10-09T06:10:48.137Z"
   },
   {
    "duration": 26,
    "start_time": "2022-10-09T06:10:48.333Z"
   },
   {
    "duration": 7,
    "start_time": "2022-10-09T06:10:48.361Z"
   },
   {
    "duration": 10,
    "start_time": "2022-10-09T06:10:48.369Z"
   },
   {
    "duration": 2,
    "start_time": "2022-10-09T06:10:48.381Z"
   },
   {
    "duration": 17,
    "start_time": "2022-10-09T06:10:48.385Z"
   },
   {
    "duration": 11,
    "start_time": "2022-10-09T06:10:48.403Z"
   },
   {
    "duration": 10,
    "start_time": "2022-10-09T06:10:48.415Z"
   },
   {
    "duration": 103,
    "start_time": "2022-10-09T06:10:48.427Z"
   },
   {
    "duration": 108,
    "start_time": "2022-10-09T06:10:48.532Z"
   },
   {
    "duration": 20,
    "start_time": "2022-10-09T06:10:48.641Z"
   },
   {
    "duration": 22,
    "start_time": "2022-10-09T06:10:48.662Z"
   },
   {
    "duration": 244,
    "start_time": "2022-10-09T06:10:48.685Z"
   },
   {
    "duration": 178,
    "start_time": "2022-10-09T06:10:48.931Z"
   },
   {
    "duration": 298,
    "start_time": "2022-10-09T06:10:49.111Z"
   },
   {
    "duration": 178,
    "start_time": "2022-10-09T06:10:49.411Z"
   },
   {
    "duration": 271,
    "start_time": "2022-10-09T06:10:49.590Z"
   },
   {
    "duration": 115,
    "start_time": "2022-10-09T06:10:49.863Z"
   },
   {
    "duration": 5,
    "start_time": "2022-10-09T06:10:49.980Z"
   },
   {
    "duration": 135,
    "start_time": "2022-10-09T06:10:49.987Z"
   },
   {
    "duration": 5,
    "start_time": "2022-10-09T06:10:50.123Z"
   },
   {
    "duration": 45,
    "start_time": "2022-10-09T06:10:50.130Z"
   },
   {
    "duration": 10,
    "start_time": "2022-10-09T06:10:50.177Z"
   },
   {
    "duration": 15,
    "start_time": "2022-10-09T06:10:50.189Z"
   },
   {
    "duration": 42,
    "start_time": "2022-10-09T06:10:50.205Z"
   },
   {
    "duration": 14,
    "start_time": "2022-10-09T06:10:50.248Z"
   },
   {
    "duration": 11,
    "start_time": "2022-10-09T06:14:37.573Z"
   },
   {
    "duration": 3,
    "start_time": "2022-10-09T06:19:22.230Z"
   },
   {
    "duration": 12,
    "start_time": "2022-10-09T06:19:23.693Z"
   },
   {
    "duration": 999,
    "start_time": "2022-10-09T06:19:33.925Z"
   },
   {
    "duration": 79,
    "start_time": "2022-10-09T06:19:34.926Z"
   },
   {
    "duration": 23,
    "start_time": "2022-10-09T06:19:35.007Z"
   },
   {
    "duration": 6,
    "start_time": "2022-10-09T06:19:35.032Z"
   },
   {
    "duration": 17,
    "start_time": "2022-10-09T06:19:35.039Z"
   },
   {
    "duration": 6,
    "start_time": "2022-10-09T06:19:35.057Z"
   },
   {
    "duration": 19,
    "start_time": "2022-10-09T06:19:35.065Z"
   },
   {
    "duration": 48,
    "start_time": "2022-10-09T06:19:35.085Z"
   },
   {
    "duration": 0,
    "start_time": "2022-10-09T06:19:35.135Z"
   },
   {
    "duration": 0,
    "start_time": "2022-10-09T06:19:35.136Z"
   },
   {
    "duration": 0,
    "start_time": "2022-10-09T06:19:35.137Z"
   },
   {
    "duration": 1,
    "start_time": "2022-10-09T06:19:35.138Z"
   },
   {
    "duration": 0,
    "start_time": "2022-10-09T06:19:35.140Z"
   },
   {
    "duration": 0,
    "start_time": "2022-10-09T06:19:35.142Z"
   },
   {
    "duration": 0,
    "start_time": "2022-10-09T06:19:35.143Z"
   },
   {
    "duration": 0,
    "start_time": "2022-10-09T06:19:35.144Z"
   },
   {
    "duration": 0,
    "start_time": "2022-10-09T06:19:35.145Z"
   },
   {
    "duration": 0,
    "start_time": "2022-10-09T06:19:35.147Z"
   },
   {
    "duration": 0,
    "start_time": "2022-10-09T06:19:35.148Z"
   },
   {
    "duration": 0,
    "start_time": "2022-10-09T06:19:35.150Z"
   },
   {
    "duration": 0,
    "start_time": "2022-10-09T06:19:35.151Z"
   },
   {
    "duration": 0,
    "start_time": "2022-10-09T06:19:35.153Z"
   },
   {
    "duration": 0,
    "start_time": "2022-10-09T06:19:35.154Z"
   },
   {
    "duration": 0,
    "start_time": "2022-10-09T06:19:35.155Z"
   },
   {
    "duration": 0,
    "start_time": "2022-10-09T06:19:35.157Z"
   },
   {
    "duration": 0,
    "start_time": "2022-10-09T06:19:35.158Z"
   },
   {
    "duration": 0,
    "start_time": "2022-10-09T06:19:35.163Z"
   },
   {
    "duration": 68,
    "start_time": "2022-10-09T06:25:45.882Z"
   },
   {
    "duration": 12,
    "start_time": "2022-10-09T06:25:53.106Z"
   },
   {
    "duration": 1076,
    "start_time": "2022-10-09T06:32:08.048Z"
   },
   {
    "duration": 79,
    "start_time": "2022-10-09T06:32:09.126Z"
   },
   {
    "duration": 24,
    "start_time": "2022-10-09T06:32:09.207Z"
   },
   {
    "duration": 9,
    "start_time": "2022-10-09T06:32:09.233Z"
   },
   {
    "duration": 9,
    "start_time": "2022-10-09T06:32:09.244Z"
   },
   {
    "duration": 2,
    "start_time": "2022-10-09T06:32:09.255Z"
   },
   {
    "duration": 16,
    "start_time": "2022-10-09T06:32:09.259Z"
   },
   {
    "duration": 12,
    "start_time": "2022-10-09T06:32:09.276Z"
   },
   {
    "duration": 21,
    "start_time": "2022-10-09T06:32:09.290Z"
   },
   {
    "duration": 99,
    "start_time": "2022-10-09T06:32:09.314Z"
   },
   {
    "duration": 122,
    "start_time": "2022-10-09T06:32:09.414Z"
   },
   {
    "duration": 22,
    "start_time": "2022-10-09T06:32:09.538Z"
   },
   {
    "duration": 22,
    "start_time": "2022-10-09T06:32:09.561Z"
   },
   {
    "duration": 268,
    "start_time": "2022-10-09T06:32:09.585Z"
   },
   {
    "duration": 175,
    "start_time": "2022-10-09T06:32:09.855Z"
   },
   {
    "duration": 272,
    "start_time": "2022-10-09T06:32:10.031Z"
   },
   {
    "duration": 190,
    "start_time": "2022-10-09T06:32:10.306Z"
   },
   {
    "duration": 286,
    "start_time": "2022-10-09T06:32:10.497Z"
   },
   {
    "duration": 117,
    "start_time": "2022-10-09T06:32:10.785Z"
   },
   {
    "duration": 5,
    "start_time": "2022-10-09T06:32:10.904Z"
   },
   {
    "duration": 151,
    "start_time": "2022-10-09T06:32:10.910Z"
   },
   {
    "duration": 4,
    "start_time": "2022-10-09T06:32:11.062Z"
   },
   {
    "duration": 44,
    "start_time": "2022-10-09T06:32:11.076Z"
   },
   {
    "duration": 9,
    "start_time": "2022-10-09T06:32:11.122Z"
   },
   {
    "duration": 24,
    "start_time": "2022-10-09T06:32:11.132Z"
   },
   {
    "duration": 60,
    "start_time": "2022-10-09T06:32:11.157Z"
   },
   {
    "duration": 13,
    "start_time": "2022-10-09T06:32:11.218Z"
   },
   {
    "duration": 8,
    "start_time": "2022-10-09T06:35:21.305Z"
   },
   {
    "duration": 114,
    "start_time": "2022-10-09T06:39:01.108Z"
   },
   {
    "duration": 9,
    "start_time": "2022-10-09T06:39:17.016Z"
   },
   {
    "duration": 9,
    "start_time": "2022-10-09T06:40:01.614Z"
   },
   {
    "duration": 15,
    "start_time": "2022-10-09T06:40:35.397Z"
   },
   {
    "duration": 905,
    "start_time": "2022-10-09T06:43:39.737Z"
   },
   {
    "duration": 586,
    "start_time": "2022-10-09T06:44:23.707Z"
   },
   {
    "duration": 7,
    "start_time": "2022-10-09T06:44:44.307Z"
   },
   {
    "duration": 8,
    "start_time": "2022-10-09T06:44:59.971Z"
   },
   {
    "duration": 8,
    "start_time": "2022-10-09T06:45:04.725Z"
   },
   {
    "duration": 12,
    "start_time": "2022-10-09T06:45:29.147Z"
   },
   {
    "duration": 9,
    "start_time": "2022-10-09T06:45:50.603Z"
   },
   {
    "duration": 11,
    "start_time": "2022-10-09T06:59:48.487Z"
   },
   {
    "duration": 12,
    "start_time": "2022-10-09T06:59:59.471Z"
   },
   {
    "duration": 10,
    "start_time": "2022-10-09T07:00:05.192Z"
   },
   {
    "duration": 11,
    "start_time": "2022-10-09T07:00:20.739Z"
   },
   {
    "duration": 9,
    "start_time": "2022-10-09T07:00:32.335Z"
   },
   {
    "duration": 9,
    "start_time": "2022-10-09T07:00:39.040Z"
   },
   {
    "duration": 9,
    "start_time": "2022-10-09T07:00:47.008Z"
   },
   {
    "duration": 9,
    "start_time": "2022-10-09T07:00:50.839Z"
   },
   {
    "duration": 10,
    "start_time": "2022-10-09T07:01:04.720Z"
   },
   {
    "duration": 10,
    "start_time": "2022-10-09T07:01:11.768Z"
   },
   {
    "duration": 9,
    "start_time": "2022-10-09T07:02:58.033Z"
   },
   {
    "duration": 9,
    "start_time": "2022-10-09T07:03:22.761Z"
   },
   {
    "duration": 15,
    "start_time": "2022-10-09T07:11:25.244Z"
   },
   {
    "duration": 10,
    "start_time": "2022-10-09T07:11:37.034Z"
   },
   {
    "duration": 4,
    "start_time": "2022-10-09T07:14:32.525Z"
   },
   {
    "duration": 4,
    "start_time": "2022-10-09T07:14:43.270Z"
   },
   {
    "duration": 3,
    "start_time": "2022-10-09T07:15:23.006Z"
   },
   {
    "duration": 10,
    "start_time": "2022-10-09T07:18:51.346Z"
   },
   {
    "duration": 4,
    "start_time": "2022-10-09T07:19:16.666Z"
   },
   {
    "duration": 5,
    "start_time": "2022-10-09T07:19:44.298Z"
   },
   {
    "duration": 6,
    "start_time": "2022-10-09T07:20:04.322Z"
   },
   {
    "duration": 4,
    "start_time": "2022-10-09T07:20:10.218Z"
   },
   {
    "duration": 6,
    "start_time": "2022-10-09T07:21:02.739Z"
   },
   {
    "duration": 28,
    "start_time": "2022-10-09T07:22:04.156Z"
   },
   {
    "duration": 6,
    "start_time": "2022-10-09T07:22:13.134Z"
   },
   {
    "duration": 4,
    "start_time": "2022-10-09T07:22:20.077Z"
   },
   {
    "duration": 4,
    "start_time": "2022-10-09T07:22:40.150Z"
   },
   {
    "duration": 5,
    "start_time": "2022-10-09T07:22:54.558Z"
   },
   {
    "duration": 9,
    "start_time": "2022-10-09T07:23:40.176Z"
   },
   {
    "duration": 5,
    "start_time": "2022-10-09T07:25:03.697Z"
   },
   {
    "duration": 6,
    "start_time": "2022-10-09T07:25:10.090Z"
   },
   {
    "duration": 4,
    "start_time": "2022-10-09T07:26:40.654Z"
   },
   {
    "duration": 5,
    "start_time": "2022-10-09T07:26:57.660Z"
   },
   {
    "duration": 249,
    "start_time": "2022-10-09T07:29:46.939Z"
   },
   {
    "duration": 176,
    "start_time": "2022-10-09T07:29:55.338Z"
   },
   {
    "duration": 196,
    "start_time": "2022-10-09T07:31:14.715Z"
   },
   {
    "duration": 201,
    "start_time": "2022-10-09T07:31:32.380Z"
   },
   {
    "duration": 189,
    "start_time": "2022-10-09T07:31:55.828Z"
   },
   {
    "duration": 204,
    "start_time": "2022-10-09T07:32:00.868Z"
   },
   {
    "duration": 197,
    "start_time": "2022-10-09T07:32:07.484Z"
   },
   {
    "duration": 188,
    "start_time": "2022-10-09T07:32:12.416Z"
   },
   {
    "duration": 180,
    "start_time": "2022-10-09T07:32:16.077Z"
   },
   {
    "duration": 177,
    "start_time": "2022-10-09T07:32:41.230Z"
   },
   {
    "duration": 192,
    "start_time": "2022-10-09T07:33:25.598Z"
   },
   {
    "duration": 241,
    "start_time": "2022-10-09T07:33:40.118Z"
   },
   {
    "duration": 179,
    "start_time": "2022-10-09T07:33:45.999Z"
   },
   {
    "duration": 178,
    "start_time": "2022-10-09T07:33:53.359Z"
   },
   {
    "duration": 180,
    "start_time": "2022-10-09T07:34:39.880Z"
   },
   {
    "duration": 183,
    "start_time": "2022-10-09T07:34:45.304Z"
   },
   {
    "duration": 177,
    "start_time": "2022-10-09T07:37:48.477Z"
   },
   {
    "duration": 1052,
    "start_time": "2022-10-09T07:38:00.021Z"
   },
   {
    "duration": 83,
    "start_time": "2022-10-09T07:38:01.076Z"
   },
   {
    "duration": 25,
    "start_time": "2022-10-09T07:38:01.160Z"
   },
   {
    "duration": 5,
    "start_time": "2022-10-09T07:38:01.187Z"
   },
   {
    "duration": 17,
    "start_time": "2022-10-09T07:38:01.194Z"
   },
   {
    "duration": 15,
    "start_time": "2022-10-09T07:38:01.213Z"
   },
   {
    "duration": 36,
    "start_time": "2022-10-09T07:38:01.230Z"
   },
   {
    "duration": 11,
    "start_time": "2022-10-09T07:38:01.268Z"
   },
   {
    "duration": 30,
    "start_time": "2022-10-09T07:38:01.280Z"
   },
   {
    "duration": 13,
    "start_time": "2022-10-09T07:38:01.313Z"
   },
   {
    "duration": 22,
    "start_time": "2022-10-09T07:38:01.327Z"
   },
   {
    "duration": 88,
    "start_time": "2022-10-09T07:38:01.351Z"
   },
   {
    "duration": 101,
    "start_time": "2022-10-09T07:38:01.441Z"
   },
   {
    "duration": 33,
    "start_time": "2022-10-09T07:38:01.543Z"
   },
   {
    "duration": 20,
    "start_time": "2022-10-09T07:38:01.578Z"
   },
   {
    "duration": 30,
    "start_time": "2022-10-09T07:38:01.600Z"
   },
   {
    "duration": 276,
    "start_time": "2022-10-09T07:38:01.631Z"
   },
   {
    "duration": 176,
    "start_time": "2022-10-09T07:38:01.909Z"
   },
   {
    "duration": 294,
    "start_time": "2022-10-09T07:38:02.087Z"
   },
   {
    "duration": 187,
    "start_time": "2022-10-09T07:38:02.383Z"
   },
   {
    "duration": 306,
    "start_time": "2022-10-09T07:38:02.583Z"
   },
   {
    "duration": 118,
    "start_time": "2022-10-09T07:38:02.892Z"
   },
   {
    "duration": 5,
    "start_time": "2022-10-09T07:38:03.012Z"
   },
   {
    "duration": 137,
    "start_time": "2022-10-09T07:38:03.019Z"
   },
   {
    "duration": 5,
    "start_time": "2022-10-09T07:38:03.157Z"
   },
   {
    "duration": 43,
    "start_time": "2022-10-09T07:38:03.164Z"
   },
   {
    "duration": 11,
    "start_time": "2022-10-09T07:38:03.210Z"
   },
   {
    "duration": 8,
    "start_time": "2022-10-09T07:38:03.225Z"
   },
   {
    "duration": 53,
    "start_time": "2022-10-09T07:38:03.235Z"
   },
   {
    "duration": 12,
    "start_time": "2022-10-09T07:38:03.290Z"
   },
   {
    "duration": 179,
    "start_time": "2022-10-09T07:38:26.032Z"
   },
   {
    "duration": 234,
    "start_time": "2022-10-09T07:38:35.985Z"
   },
   {
    "duration": 319,
    "start_time": "2022-10-09T07:38:48.201Z"
   },
   {
    "duration": 203,
    "start_time": "2022-10-09T07:38:58.459Z"
   },
   {
    "duration": 194,
    "start_time": "2022-10-09T07:39:03.714Z"
   },
   {
    "duration": 201,
    "start_time": "2022-10-09T07:39:08.361Z"
   },
   {
    "duration": 209,
    "start_time": "2022-10-09T07:39:38.569Z"
   },
   {
    "duration": 210,
    "start_time": "2022-10-09T07:40:11.507Z"
   },
   {
    "duration": 51,
    "start_time": "2022-10-09T07:40:45.340Z"
   },
   {
    "duration": 269,
    "start_time": "2022-10-09T07:40:58.571Z"
   },
   {
    "duration": 182,
    "start_time": "2022-10-09T07:41:09.861Z"
   },
   {
    "duration": 208,
    "start_time": "2022-10-09T07:41:29.845Z"
   },
   {
    "duration": 192,
    "start_time": "2022-10-09T07:42:51.840Z"
   },
   {
    "duration": 393,
    "start_time": "2022-10-09T07:44:10.621Z"
   },
   {
    "duration": 323,
    "start_time": "2022-10-09T07:44:50.096Z"
   },
   {
    "duration": 177,
    "start_time": "2022-10-09T07:45:31.611Z"
   },
   {
    "duration": 197,
    "start_time": "2022-10-09T07:45:41.035Z"
   },
   {
    "duration": 334,
    "start_time": "2022-10-09T07:47:00.444Z"
   },
   {
    "duration": 144,
    "start_time": "2022-10-09T07:48:19.252Z"
   },
   {
    "duration": 123,
    "start_time": "2022-10-09T07:48:44.733Z"
   },
   {
    "duration": 145,
    "start_time": "2022-10-09T07:48:51.417Z"
   },
   {
    "duration": 124,
    "start_time": "2022-10-09T07:49:36.350Z"
   },
   {
    "duration": 149,
    "start_time": "2022-10-09T07:49:48.250Z"
   },
   {
    "duration": 1011,
    "start_time": "2022-10-09T07:50:09.624Z"
   },
   {
    "duration": 79,
    "start_time": "2022-10-09T07:50:10.637Z"
   },
   {
    "duration": 24,
    "start_time": "2022-10-09T07:50:10.718Z"
   },
   {
    "duration": 8,
    "start_time": "2022-10-09T07:50:10.744Z"
   },
   {
    "duration": 14,
    "start_time": "2022-10-09T07:50:10.754Z"
   },
   {
    "duration": 3,
    "start_time": "2022-10-09T07:50:10.770Z"
   },
   {
    "duration": 19,
    "start_time": "2022-10-09T07:50:10.774Z"
   },
   {
    "duration": 12,
    "start_time": "2022-10-09T07:50:10.795Z"
   },
   {
    "duration": 9,
    "start_time": "2022-10-09T07:50:10.810Z"
   },
   {
    "duration": 7,
    "start_time": "2022-10-09T07:50:10.822Z"
   },
   {
    "duration": 9,
    "start_time": "2022-10-09T07:50:10.831Z"
   },
   {
    "duration": 120,
    "start_time": "2022-10-09T07:50:10.841Z"
   },
   {
    "duration": 120,
    "start_time": "2022-10-09T07:50:10.963Z"
   },
   {
    "duration": 21,
    "start_time": "2022-10-09T07:50:11.085Z"
   },
   {
    "duration": 10,
    "start_time": "2022-10-09T07:50:11.108Z"
   },
   {
    "duration": 5,
    "start_time": "2022-10-09T07:50:11.120Z"
   },
   {
    "duration": 299,
    "start_time": "2022-10-09T07:50:11.127Z"
   },
   {
    "duration": 235,
    "start_time": "2022-10-09T07:50:11.428Z"
   },
   {
    "duration": 352,
    "start_time": "2022-10-09T07:50:11.665Z"
   },
   {
    "duration": 210,
    "start_time": "2022-10-09T07:50:12.018Z"
   },
   {
    "duration": 291,
    "start_time": "2022-10-09T07:50:12.229Z"
   },
   {
    "duration": 134,
    "start_time": "2022-10-09T07:50:12.522Z"
   },
   {
    "duration": 5,
    "start_time": "2022-10-09T07:50:12.658Z"
   },
   {
    "duration": 162,
    "start_time": "2022-10-09T07:50:12.676Z"
   },
   {
    "duration": 6,
    "start_time": "2022-10-09T07:50:12.839Z"
   },
   {
    "duration": 45,
    "start_time": "2022-10-09T07:50:12.846Z"
   },
   {
    "duration": 11,
    "start_time": "2022-10-09T07:50:12.893Z"
   },
   {
    "duration": 28,
    "start_time": "2022-10-09T07:50:12.908Z"
   },
   {
    "duration": 38,
    "start_time": "2022-10-09T07:50:12.938Z"
   },
   {
    "duration": 15,
    "start_time": "2022-10-09T07:50:12.978Z"
   },
   {
    "duration": 10,
    "start_time": "2022-10-09T08:22:41.760Z"
   },
   {
    "duration": 10,
    "start_time": "2022-10-09T08:23:01.974Z"
   },
   {
    "duration": 12,
    "start_time": "2022-10-09T08:24:51.474Z"
   },
   {
    "duration": 10,
    "start_time": "2022-10-09T08:25:26.842Z"
   },
   {
    "duration": 7,
    "start_time": "2022-10-09T08:25:34.435Z"
   },
   {
    "duration": 27,
    "start_time": "2022-10-09T08:26:53.170Z"
   },
   {
    "duration": 13,
    "start_time": "2022-10-09T08:28:51.230Z"
   },
   {
    "duration": 1148,
    "start_time": "2022-10-09T08:33:16.451Z"
   },
   {
    "duration": 78,
    "start_time": "2022-10-09T08:33:17.601Z"
   },
   {
    "duration": 26,
    "start_time": "2022-10-09T08:33:17.680Z"
   },
   {
    "duration": 7,
    "start_time": "2022-10-09T08:33:17.708Z"
   },
   {
    "duration": 13,
    "start_time": "2022-10-09T08:33:17.717Z"
   },
   {
    "duration": 4,
    "start_time": "2022-10-09T08:33:17.731Z"
   },
   {
    "duration": 17,
    "start_time": "2022-10-09T08:33:17.737Z"
   },
   {
    "duration": 29,
    "start_time": "2022-10-09T08:33:17.756Z"
   },
   {
    "duration": 13,
    "start_time": "2022-10-09T08:33:17.787Z"
   },
   {
    "duration": 7,
    "start_time": "2022-10-09T08:33:17.804Z"
   },
   {
    "duration": 6,
    "start_time": "2022-10-09T08:33:17.813Z"
   },
   {
    "duration": 115,
    "start_time": "2022-10-09T08:33:17.821Z"
   },
   {
    "duration": 118,
    "start_time": "2022-10-09T08:33:17.938Z"
   },
   {
    "duration": 27,
    "start_time": "2022-10-09T08:33:18.058Z"
   },
   {
    "duration": 10,
    "start_time": "2022-10-09T08:33:18.087Z"
   },
   {
    "duration": 7,
    "start_time": "2022-10-09T08:33:18.099Z"
   },
   {
    "duration": 295,
    "start_time": "2022-10-09T08:33:18.108Z"
   },
   {
    "duration": 206,
    "start_time": "2022-10-09T08:33:18.404Z"
   },
   {
    "duration": 316,
    "start_time": "2022-10-09T08:33:18.612Z"
   },
   {
    "duration": 222,
    "start_time": "2022-10-09T08:33:18.930Z"
   },
   {
    "duration": 349,
    "start_time": "2022-10-09T08:33:19.154Z"
   },
   {
    "duration": 146,
    "start_time": "2022-10-09T08:33:19.504Z"
   },
   {
    "duration": 6,
    "start_time": "2022-10-09T08:33:19.652Z"
   },
   {
    "duration": 158,
    "start_time": "2022-10-09T08:33:19.660Z"
   },
   {
    "duration": 6,
    "start_time": "2022-10-09T08:33:19.819Z"
   },
   {
    "duration": 12,
    "start_time": "2022-10-09T08:33:19.826Z"
   },
   {
    "duration": 47,
    "start_time": "2022-10-09T08:33:19.840Z"
   },
   {
    "duration": 10,
    "start_time": "2022-10-09T08:33:19.890Z"
   },
   {
    "duration": 8,
    "start_time": "2022-10-09T08:33:19.901Z"
   },
   {
    "duration": 123,
    "start_time": "2022-10-09T08:33:19.911Z"
   },
   {
    "duration": 0,
    "start_time": "2022-10-09T08:33:20.036Z"
   },
   {
    "duration": 9,
    "start_time": "2022-10-09T08:40:15.509Z"
   },
   {
    "duration": 26,
    "start_time": "2022-10-09T08:40:17.356Z"
   },
   {
    "duration": 1021,
    "start_time": "2022-10-09T08:40:22.524Z"
   },
   {
    "duration": 79,
    "start_time": "2022-10-09T08:40:23.547Z"
   },
   {
    "duration": 26,
    "start_time": "2022-10-09T08:40:23.628Z"
   },
   {
    "duration": 7,
    "start_time": "2022-10-09T08:40:23.656Z"
   },
   {
    "duration": 12,
    "start_time": "2022-10-09T08:40:23.664Z"
   },
   {
    "duration": 3,
    "start_time": "2022-10-09T08:40:23.677Z"
   },
   {
    "duration": 21,
    "start_time": "2022-10-09T08:40:23.682Z"
   },
   {
    "duration": 12,
    "start_time": "2022-10-09T08:40:23.705Z"
   },
   {
    "duration": 11,
    "start_time": "2022-10-09T08:40:23.718Z"
   },
   {
    "duration": 7,
    "start_time": "2022-10-09T08:40:23.732Z"
   },
   {
    "duration": 10,
    "start_time": "2022-10-09T08:40:23.740Z"
   },
   {
    "duration": 125,
    "start_time": "2022-10-09T08:40:23.752Z"
   },
   {
    "duration": 117,
    "start_time": "2022-10-09T08:40:23.878Z"
   },
   {
    "duration": 21,
    "start_time": "2022-10-09T08:40:23.997Z"
   },
   {
    "duration": 11,
    "start_time": "2022-10-09T08:40:24.019Z"
   },
   {
    "duration": 6,
    "start_time": "2022-10-09T08:40:24.031Z"
   },
   {
    "duration": 316,
    "start_time": "2022-10-09T08:40:24.039Z"
   },
   {
    "duration": 222,
    "start_time": "2022-10-09T08:40:24.357Z"
   },
   {
    "duration": 329,
    "start_time": "2022-10-09T08:40:24.581Z"
   },
   {
    "duration": 232,
    "start_time": "2022-10-09T08:40:24.912Z"
   },
   {
    "duration": 387,
    "start_time": "2022-10-09T08:40:25.145Z"
   },
   {
    "duration": 147,
    "start_time": "2022-10-09T08:40:25.534Z"
   },
   {
    "duration": 5,
    "start_time": "2022-10-09T08:40:25.683Z"
   },
   {
    "duration": 178,
    "start_time": "2022-10-09T08:40:25.689Z"
   },
   {
    "duration": 9,
    "start_time": "2022-10-09T08:40:25.870Z"
   },
   {
    "duration": 14,
    "start_time": "2022-10-09T08:40:25.881Z"
   },
   {
    "duration": 29,
    "start_time": "2022-10-09T08:40:25.897Z"
   },
   {
    "duration": 13,
    "start_time": "2022-10-09T08:40:25.930Z"
   },
   {
    "duration": 41,
    "start_time": "2022-10-09T08:40:25.945Z"
   },
   {
    "duration": 39,
    "start_time": "2022-10-09T08:40:25.988Z"
   },
   {
    "duration": 15,
    "start_time": "2022-10-09T08:40:26.028Z"
   },
   {
    "duration": 1105,
    "start_time": "2022-10-09T08:42:05.643Z"
   },
   {
    "duration": 77,
    "start_time": "2022-10-09T08:42:06.750Z"
   },
   {
    "duration": 23,
    "start_time": "2022-10-09T08:42:06.829Z"
   },
   {
    "duration": 6,
    "start_time": "2022-10-09T08:42:06.854Z"
   },
   {
    "duration": 14,
    "start_time": "2022-10-09T08:42:06.861Z"
   },
   {
    "duration": 3,
    "start_time": "2022-10-09T08:42:06.877Z"
   },
   {
    "duration": 18,
    "start_time": "2022-10-09T08:42:06.882Z"
   },
   {
    "duration": 12,
    "start_time": "2022-10-09T08:42:06.902Z"
   },
   {
    "duration": 11,
    "start_time": "2022-10-09T08:42:06.916Z"
   },
   {
    "duration": 9,
    "start_time": "2022-10-09T08:42:06.931Z"
   },
   {
    "duration": 12,
    "start_time": "2022-10-09T08:42:06.942Z"
   },
   {
    "duration": 137,
    "start_time": "2022-10-09T08:42:06.956Z"
   },
   {
    "duration": 113,
    "start_time": "2022-10-09T08:42:07.095Z"
   },
   {
    "duration": 21,
    "start_time": "2022-10-09T08:42:07.209Z"
   },
   {
    "duration": 11,
    "start_time": "2022-10-09T08:42:07.231Z"
   },
   {
    "duration": 6,
    "start_time": "2022-10-09T08:42:07.243Z"
   },
   {
    "duration": 311,
    "start_time": "2022-10-09T08:42:07.251Z"
   },
   {
    "duration": 215,
    "start_time": "2022-10-09T08:42:07.563Z"
   },
   {
    "duration": 333,
    "start_time": "2022-10-09T08:42:07.780Z"
   },
   {
    "duration": 229,
    "start_time": "2022-10-09T08:42:08.114Z"
   },
   {
    "duration": 367,
    "start_time": "2022-10-09T08:42:08.345Z"
   },
   {
    "duration": 172,
    "start_time": "2022-10-09T08:42:08.714Z"
   },
   {
    "duration": 5,
    "start_time": "2022-10-09T08:42:08.888Z"
   },
   {
    "duration": 177,
    "start_time": "2022-10-09T08:42:08.894Z"
   },
   {
    "duration": 5,
    "start_time": "2022-10-09T08:42:09.077Z"
   },
   {
    "duration": 15,
    "start_time": "2022-10-09T08:42:09.084Z"
   },
   {
    "duration": 27,
    "start_time": "2022-10-09T08:42:09.101Z"
   },
   {
    "duration": 11,
    "start_time": "2022-10-09T08:42:09.133Z"
   },
   {
    "duration": 40,
    "start_time": "2022-10-09T08:42:09.146Z"
   },
   {
    "duration": 28,
    "start_time": "2022-10-09T08:42:09.188Z"
   },
   {
    "duration": 14,
    "start_time": "2022-10-09T08:42:09.218Z"
   }
  ],
  "kernelspec": {
   "display_name": "Python 3 (ipykernel)",
   "language": "python",
   "name": "python3"
  },
  "language_info": {
   "codemirror_mode": {
    "name": "ipython",
    "version": 3
   },
   "file_extension": ".py",
   "mimetype": "text/x-python",
   "name": "python",
   "nbconvert_exporter": "python",
   "pygments_lexer": "ipython3",
   "version": "3.9.12"
  },
  "toc": {
   "base_numbering": 1,
   "nav_menu": {},
   "number_sections": true,
   "sideBar": true,
   "skip_h1_title": true,
   "title_cell": "Table of Contents",
   "title_sidebar": "Contents",
   "toc_cell": false,
   "toc_position": {},
   "toc_section_display": true,
   "toc_window_display": false
  }
 },
 "nbformat": 4,
 "nbformat_minor": 2
}
